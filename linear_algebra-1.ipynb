{
 "cells": [
  {
   "cell_type": "code",
   "execution_count": null,
   "metadata": {},
   "outputs": [],
   "source": [
    "%load_ext autoreload\n",
    "%autoreload 2\n",
    "\n",
    "%matplotlib inline"
   ]
  },
  {
   "cell_type": "markdown",
   "metadata": {},
   "source": [
    "## Basic setup"
   ]
  },
  {
   "cell_type": "markdown",
   "metadata": {},
   "source": [
    "Create anaconda environnement\n",
    "<br>\n",
    "```bash\n",
    "conda create -n ml python=3.7.4 jupyter\n",
    "```\n",
    "Install fastai library\n",
    "<br>\n",
    "```bash\n",
    "conda install -c pytorch -c fastai fastai\n",
    "```"
   ]
  },
  {
   "cell_type": "markdown",
   "metadata": {},
   "source": [
    "# Set theory basics"
   ]
  },
  {
   "cell_type": "markdown",
   "metadata": {},
   "source": [
    "Set (small) collection of mathematical (unique) elements $\\{x, y, z, ...\\}$, for instance set of integers $\\{1, 2, 3, ...\\}$, set of real numbers $\\mathbb{R}$ numbers. We can describe set with it's property, e.g. set of real numbers between $1$ and $5$ will be $\\{x | x \\in \\mathbb{R}, 1\\leq x \\leq 5 \\}$."
   ]
  },
  {
   "cell_type": "code",
   "execution_count": 2,
   "metadata": {},
   "outputs": [
    {
     "data": {
      "text/plain": [
       "(set, set, set, {1, 2, 3, 4})"
      ]
     },
     "execution_count": 2,
     "metadata": {},
     "output_type": "execute_result"
    }
   ],
   "source": [
    "S = set([2, 4])\n",
    "A = {1, 2, 3, 4, 4}\n",
    "B = {2, 4}\n",
    "C = {1, 2, 18, 28}\n",
    "type(S), type(A), type(B), A"
   ]
  },
  {
   "cell_type": "markdown",
   "metadata": {},
   "source": [
    "We say that element $a \\in A$ if element $a$ belongs to set $A$ and $a \\notin A$ in other case"
   ]
  },
  {
   "cell_type": "code",
   "execution_count": 3,
   "metadata": {},
   "outputs": [
    {
     "data": {
      "text/plain": [
       "(True, True, False)"
      ]
     },
     "execution_count": 3,
     "metadata": {},
     "output_type": "execute_result"
    }
   ],
   "source": [
    "1 in A, 2 in B, 3 in C"
   ]
  },
  {
   "cell_type": "markdown",
   "metadata": {},
   "source": [
    "Note: sometimes we write $a, b \\in A$ (or $a, b, c \\in A$, $a,b,c,d \\in A$, $a_1, a_2, ..., a_n \\in A$) instead of $a \\in A$ and $b \\in A$ (or $a \\in A$ and $b \\in A$ and $c \\in A$, $a \\in A$ and $b \\in A$ and $c \\in A$ and $d \\in A$, $a_1 \\in A$ and $a_2 \\in A$ and ... $a_n \\in A$)"
   ]
  },
  {
   "cell_type": "markdown",
   "metadata": {},
   "source": [
    "Set (category) of all \"small\" sets $Set$"
   ]
  },
  {
   "cell_type": "markdown",
   "metadata": {},
   "source": [
    "Subset $B \\subseteq A$ if for every $x$ element of $B$, $x \\in A$ "
   ]
  },
  {
   "cell_type": "code",
   "execution_count": 3,
   "metadata": {},
   "outputs": [
    {
     "data": {
      "text/plain": [
       "(True, False)"
      ]
     },
     "execution_count": 3,
     "metadata": {},
     "output_type": "execute_result"
    }
   ],
   "source": [
    "B.issubset(A), A.issubset(B)"
   ]
  },
  {
   "cell_type": "markdown",
   "metadata": {},
   "source": [
    "Prove that $A \\subseteq A$"
   ]
  },
  {
   "cell_type": "markdown",
   "metadata": {},
   "source": [
    "# Proof #1\n",
    "\n"
   ]
  },
  {
   "cell_type": "markdown",
   "metadata": {},
   "source": [
    "$$\\forall a : (a \\in A \\Rightarrow a \\in A) \\Rightarrow A \\subseteq A$$ "
   ]
  },
  {
   "cell_type": "markdown",
   "metadata": {},
   "source": [
    "Proper subset $B \\subset A$ if for every element $b \\in B$: $A \\in A$ and there exists $a \\in a$ such that: $a \\notin B$, or in other words $B \\subseteq A$ and $B \\neq A$"
   ]
  },
  {
   "cell_type": "markdown",
   "metadata": {},
   "source": [
    "If $A \\subseteq B$ and $B \\subseteq A$ $\\to$ $A = B$"
   ]
  },
  {
   "cell_type": "markdown",
   "metadata": {},
   "source": [
    "Empty set a $\\emptyset$ is a set without elements at all and which is contained in any set $\\emptyset \\subseteq A$ for any $A \\in Set$ so $\\emptyset$ is the \"smallest\" set (Proof it)"
   ]
  },
  {
   "cell_type": "code",
   "execution_count": 4,
   "metadata": {},
   "outputs": [
    {
     "data": {
      "text/plain": [
       "dict"
      ]
     },
     "execution_count": 4,
     "metadata": {},
     "output_type": "execute_result"
    }
   ],
   "source": [
    "#O = set() \n",
    "O = {}\n",
    "type(O)"
   ]
  },
  {
   "cell_type": "markdown",
   "metadata": {},
   "source": [
    "Intersection of two sets $A$ and $B$ $A \\cap B$ is a \"biggest\" subset of $A$ and $B$, that means for every set $C$ such that, $C \\subseteq A$ and $C \\subseteq B$ $\\to$ (implies) $C \\subseteq A\\cap B$"
   ]
  },
  {
   "cell_type": "code",
   "execution_count": null,
   "metadata": {},
   "outputs": [],
   "source": [
    "A.intersection(B), A.intersection(C)"
   ]
  },
  {
   "cell_type": "markdown",
   "metadata": {},
   "source": [
    "Give an exmaples of two sets $A$ and $B$ for which $A \\cap B = \\emptyset$"
   ]
  },
  {
   "cell_type": "markdown",
   "metadata": {},
   "source": [
    "Prove that if $B \\subset A$ then $A \\cap B = B$"
   ]
  },
  {
   "cell_type": "markdown",
   "metadata": {},
   "source": [
    "# Proof #2\n",
    "\n",
    " # 1)\n",
    " \n",
    "$ B \\subset A  \\implies A \\cap B = B $\n",
    " \n",
    "assume $ B \\subset A$ and prove that $ A \\cap B \\subset B. $\n",
    "\n",
    "$ \\forall : (x \\in A \\cap B \\implies x \\in A $ and $ x \\in B) \\implies A \\cap B \\subset A $\n",
    "\n",
    "now assume $B \\subset A \\cap B$\n",
    "\n",
    "$\\forall x : (x \\in B \\implies x \\in A $ and $ x \\in B)$\n",
    "\n",
    "both inclusions give $ B = A \\cap B$\n",
    "\n",
    "# 2)\n",
    "Assume $A \\cap B = B $ and prove $ B \\subset A$\n",
    "\n",
    "$ \\forall x : (x \\in B \\implies x \\in A \\cap B) $ (by assumtion). So $x \\in A ) \\implies B \\subset A)$"
   ]
  },
  {
   "cell_type": "markdown",
   "metadata": {},
   "source": [
    "Prove that $A \\cap B = B \\cap A$"
   ]
  },
  {
   "cell_type": "markdown",
   "metadata": {},
   "source": [
    "# Proof #3\n",
    "\n",
    "$ \\forall x: (x \\in A \\cap B \\implies x \\in A, x \\in B => x \\in B \\cap A) \\implies A \\cap B = B \\cap A$\n",
    "\n",
    "\n"
   ]
  },
  {
   "cell_type": "markdown",
   "metadata": {},
   "source": [
    "Union of two sets $A$ and $B$ $A \\cup B$ is a \"smallest\" set that contains both - $A$ and $B$, that means:\n",
    "for every set $D$ such that $A \\subseteq D$ and $B \\subseteq D$ $\\to$ (implies) $A \\cup B \\subseteq D$"
   ]
  },
  {
   "cell_type": "code",
   "execution_count": 5,
   "metadata": {},
   "outputs": [
    {
     "data": {
      "text/plain": [
       "({1, 2, 3, 4}, {1, 2, 18, 28}, {1, 2, 3, 4, 18, 28}, {1, 2, 3, 4})"
      ]
     },
     "execution_count": 5,
     "metadata": {},
     "output_type": "execute_result"
    }
   ],
   "source": [
    "A, C, A.union(C), A.union(B) "
   ]
  },
  {
   "cell_type": "markdown",
   "metadata": {},
   "source": [
    "Prove that if $B \\subset A$ then $A \\cup B = A$"
   ]
  },
  {
   "cell_type": "markdown",
   "metadata": {},
   "source": [
    "If $B \\subset A \\implies \\forall x : (x \\in B \\implies x \\in A) \\implies x \\in A \\cup B$"
   ]
  },
  {
   "cell_type": "markdown",
   "metadata": {},
   "source": [
    "Prove that $A \\cap B = B \\cap A$ that $A \\cup B = B \\cup A$"
   ]
  },
  {
   "cell_type": "markdown",
   "metadata": {},
   "source": [
    "\n",
    "$\\forall x : (x \\in A \\cap B \\implies x \\in A, x \\in B \\implies x \\in A \\cup B, x \\in B \\cup A$"
   ]
  },
  {
   "cell_type": "markdown",
   "metadata": {},
   "source": [
    "Difference between two sets $A$ snd $B$ is the set $A - B$ or $A \\ B$ for which $a \\in A - B$ if $a \\in A$ and $a \\notin B$"
   ]
  },
  {
   "cell_type": "code",
   "execution_count": null,
   "metadata": {},
   "outputs": [],
   "source": [
    "A - B, A - C, C - A, A, B, C"
   ]
  },
  {
   "cell_type": "markdown",
   "metadata": {},
   "source": [
    "For set $A$ and subset $B$ we denote $A - B$ with $\\overline{B}$ or $B^{C}$"
   ]
  },
  {
   "cell_type": "markdown",
   "metadata": {},
   "source": [
    "Set of subsets (powerset) of the set $X$ will be $2^X = \\{A | A \\subseteq X\\}$"
   ]
  },
  {
   "cell_type": "code",
   "execution_count": 6,
   "metadata": {},
   "outputs": [
    {
     "data": {
      "text/plain": [
       "({1, 2, 3, 4},\n",
       " {(),\n",
       "  (1,),\n",
       "  (1, 2),\n",
       "  (1, 2, 3),\n",
       "  (1, 2, 3, 4),\n",
       "  (1, 2, 4),\n",
       "  (1, 3),\n",
       "  (1, 3, 4),\n",
       "  (1, 4),\n",
       "  (2,),\n",
       "  (2, 3),\n",
       "  (2, 3, 4),\n",
       "  (2, 4),\n",
       "  (3,),\n",
       "  (3, 4),\n",
       "  (4,)},\n",
       " 4,\n",
       " 16,\n",
       " 16,\n",
       " True)"
      ]
     },
     "execution_count": 6,
     "metadata": {},
     "output_type": "execute_result"
    }
   ],
   "source": [
    "from itertools import combinations, chain\n",
    "pset = chain.from_iterable(combinations(A, r) for r in range(len(A)+1))\n",
    "P_A = set(pset)\n",
    "A, P_A, len(A), len(P_A), 2**(len(A)), len(P_A) == 2**(len(A))"
   ]
  },
  {
   "cell_type": "markdown",
   "metadata": {},
   "source": [
    "Cartesian product of sets $A$ and $B$ in set of ordered pairs := $A\\times B = \\{(a, b) | a \\in A \\textrm{ and } b\\in B\\}$"
   ]
  },
  {
   "cell_type": "code",
   "execution_count": 7,
   "metadata": {},
   "outputs": [
    {
     "data": {
      "text/plain": [
       "({(1, 2), (1, 4), (2, 2), (2, 4), (3, 2), (3, 4), (4, 2), (4, 4)}, 4, 2, 8)"
      ]
     },
     "execution_count": 7,
     "metadata": {},
     "output_type": "execute_result"
    }
   ],
   "source": [
    "AxB = {(a, b) for a in A for b in B}\n",
    "AxB, len(A), len(B), len(AxB)"
   ]
  },
  {
   "cell_type": "code",
   "execution_count": 8,
   "metadata": {},
   "outputs": [
    {
     "name": "stdout",
     "output_type": "stream",
     "text": [
      "AxB={(1, 2), (3, 2), (4, 4), (1, 4), (2, 2), (4, 2), (3, 4), (2, 4)}\n",
      "AxBxC={(4, 2, 2), (4, 4, 1), (1, 4, 18), (1, 2, 28), (4, 2, 18), (3, 4, 1), (1, 4, 2), (2, 4, 1), (3, 4, 2), (2, 4, 18), (4, 2, 28), (3, 2, 28), (4, 4, 28), (1, 4, 1), (3, 4, 18), (2, 4, 2), (3, 2, 2), (1, 2, 18), (3, 4, 28), (1, 4, 28), (1, 2, 1), (3, 2, 18), (2, 2, 28), (3, 2, 1), (1, 2, 2), (2, 2, 18), (2, 2, 2), (2, 2, 1), (4, 4, 18), (4, 2, 1), (2, 4, 28), (4, 4, 2)}\n"
     ]
    }
   ],
   "source": [
    "AxBxC = {(a, b, c) for a in A for b in B for c in C}\n",
    "print('AxB={}'.format(AxB))\n",
    "print('AxBxC={}'.format(AxBxC))"
   ]
  },
  {
   "cell_type": "markdown",
   "metadata": {},
   "source": [
    "Exclusively for mathematicians $(a, b) = \\{a, \\{a, b\\}\\}$ and $A \\times B = \\{\\{a, \\{a, b\\}\\} | a \\in A \\textrm{ and } b\\in B\\}$"
   ]
  },
  {
   "cell_type": "markdown",
   "metadata": {},
   "source": [
    "Every subset $R$ of $AxB$ is called relation. We write $aRb$ iff $(a, b) \\in R$"
   ]
  },
  {
   "cell_type": "markdown",
   "metadata": {},
   "source": [
    "Special cases of relations:"
   ]
  },
  {
   "cell_type": "markdown",
   "metadata": {},
   "source": [
    "For every set $A$ the diagonal $\\Delta \\subseteq A \\times A$ is $\\{(a, a) | a \\in A\\}$"
   ]
  },
  {
   "cell_type": "code",
   "execution_count": 9,
   "metadata": {},
   "outputs": [
    {
     "name": "stdout",
     "output_type": "stream",
     "text": [
      "delta={(1, 2), (3, 2), (1, 3), (4, 1), (3, 3), (3, 1), (4, 4), (2, 1), (1, 4), (2, 4), (2, 3), (4, 3), (2, 2), (4, 2), (3, 4), (1, 1)}\n"
     ]
    }
   ],
   "source": [
    "delta = {(a,b) for a in A for b in A}\n",
    "print('delta={}'.format(delta))"
   ]
  },
  {
   "cell_type": "markdown",
   "metadata": {},
   "source": [
    "Equivalence relation on the set $A$: $E \\subset A \\times A$ with properties:\n",
    "- For each $a \\in A$ $aEa$, which means that diagonal $\\Delta \\subseteq E$ (reflexive property)\n",
    "- For each $a, b \\in A$ iff $aEb$ then $bEa$ (symmetric property)\n",
    "- For each $a, b, c \\in A$ if $aEb$ and $bEc$ then $aEc$\n"
   ]
  },
  {
   "cell_type": "markdown",
   "metadata": {},
   "source": [
    "Partial order relation $\\leq$\n",
    "- For each $a \\in A$ $a \\leq a$, which means that diagonal $\\Delta \\subseteq E$ (reflexive property)\n",
    "- For each $a, b \\in A$ if $a \\leq b$ and $b\\leq a$ then $a = b$ (anti-symmetric property)\n",
    "- For each $a, b, c \\in A$ if $a \\leq b$ and $b \\leq c$ then $a \\leq c$"
   ]
  },
  {
   "cell_type": "markdown",
   "metadata": {},
   "source": [
    "Function, map $f$ between two sets $A$ and $B$ is the special relation such thet for every $a\\in A$ and every $b^{'}, b^{''} \\in B$ if $af{b^{'}}$ and $af{b^{''}}$ $\\to$ $b^{'}={b^{''}}$.\n"
   ]
  },
  {
   "cell_type": "markdown",
   "metadata": {},
   "source": [
    "We write : $f:A \\to B$ or $A \\xrightarrow{f} B$ instead of $f \\subseteq A \\times B $ and $f(a)=b$ or $f:a \\mapsto b$ instead of $afb$"
   ]
  },
  {
   "cell_type": "markdown",
   "metadata": {},
   "source": [
    "We write $f, g :A \\to B$ or $f_1, f_2, ..., f_n : A \\to B$ instead of $f: A\\to B$ and $g:A \\to B$ or  $f_1: A \\to B$ and $f_2 : A \\to B$ ... $f_n : A \\to B$"
   ]
  },
  {
   "cell_type": "code",
   "execution_count": null,
   "metadata": {},
   "outputs": [],
   "source": [
    "f = lambda x: x**2\n",
    "A, set(map(f, A))"
   ]
  },
  {
   "cell_type": "markdown",
   "metadata": {},
   "source": [
    "Composition of $f:A \\to B$ and $g:B \\to C$ is $g \\circ f : A \\to C$ where $a \\mapsto g(f(a))$ for each $a \\in A$"
   ]
  },
  {
   "cell_type": "markdown",
   "metadata": {},
   "source": [
    "or $A \\xrightarrow{f} B \\xrightarrow{g} C$ than $g \\circ f:A \\to C$"
   ]
  },
  {
   "cell_type": "markdown",
   "metadata": {},
   "source": [
    "Identity map $1_A:A \\to A$ is defined as $1_A(a) = a$ for each $a \\ int A$\n",
    "<br>\n",
    "If set is given we sometimes write $1:A \\to A$ for simplicity"
   ]
  },
  {
   "cell_type": "code",
   "execution_count": null,
   "metadata": {},
   "outputs": [],
   "source": [
    "g = lambda y: y + 12\n",
    "gf = lambda x : g(f(x))\n",
    "A, set(map(g, set(map(f, A)))), set(map(gf, A))"
   ]
  },
  {
   "cell_type": "markdown",
   "metadata": {},
   "source": [
    "Injection (monomorphism): $m:A \\to B$ is called injection if for eqch pair of elements $a^{'}, a^{''} \\in A$ if $f(a^{'}) = f(a^{''})$ $\\to$ $a^{'} = a^{''}$."
   ]
  },
  {
   "cell_type": "markdown",
   "metadata": {},
   "source": [
    "Surjection (epimorphism): $p:A \\to B$ is called injection if for eqch pair of elements $a^{'}, a^{''} \\in A$ if $f(a^{'}) = f(a^{''})$ $\\to$ $a^{'} = a^{''}$."
   ]
  },
  {
   "cell_type": "markdown",
   "metadata": {},
   "source": [
    "Prove that:\n",
    "- for every injection $m:A \\to B$ and pair of functions $f, g :C \\to A$: if $m \\circ f = m \\circ g$ then $f = g$ and vice-versa\n",
    "- for every surjection $e:A \\to B$ and every pair of functions $f, g :B \\to C$: if $f \\circ p = g \\circ p$ then $f = g$ and vice-versa"
   ]
  },
  {
   "cell_type": "markdown",
   "metadata": {},
   "source": [
    "Bijection: $f: A \\to B$ is called bijection if $f$ is injection and surjection simultaneously"
   ]
  },
  {
   "cell_type": "markdown",
   "metadata": {},
   "source": [
    "Prooof that \n",
    "- composition of injections is injection itself\n",
    "- composition of surjections is surjection itself\n",
    "- composition of bijections is bijection itself\n",
    "<br>\n",
    "or give a counterexamples"
   ]
  },
  {
   "cell_type": "markdown",
   "metadata": {},
   "source": [
    "If there exists a biujection between two sets $A$ and $B$, we call this two sets equivalent sets and write $A \\equiv B$ or $A \\cong B$"
   ]
  },
  {
   "cell_type": "markdown",
   "metadata": {},
   "source": [
    "Proove that for each set $A$:\n",
    "- $A \\cong A$\n",
    "- iff $B \\cong A$ then $B \\cong A$ for every pair of sets $A$ and $B$\n",
    "- if $A \\cong B$ and $B \\cong C$ then $A \\cong C$ for every triplet $A$, $B$ and $C$"
   ]
  },
  {
   "cell_type": "markdown",
   "metadata": {},
   "source": [
    "Prooof that there exists bijection between set of natural and even numbers"
   ]
  },
  {
   "cell_type": "markdown",
   "metadata": {},
   "source": [
    "Proof thet if we have the bijection between two finity sets than they have an equal number of elements"
   ]
  },
  {
   "cell_type": "markdown",
   "metadata": {},
   "source": [
    "Prove that $A \\times B \\cong B \\times A$"
   ]
  },
  {
   "cell_type": "markdown",
   "metadata": {},
   "source": [
    "Suppose we have a set $I$ and $A$ and bijection $i:I \\to 2^A$ than $I$ is called index set."
   ]
  },
  {
   "cell_type": "markdown",
   "metadata": {},
   "source": [
    "Let $I = \\mathbb{N}$ the we have a sequence of sets $(A_1, A_2, ...)$, or if $I$ is finit then we have a finity sequence of sets"
   ]
  },
  {
   "cell_type": "markdown",
   "metadata": {},
   "source": [
    "We can generalize intersections and unions for as many sets as we want"
   ]
  },
  {
   "cell_type": "markdown",
   "metadata": {},
   "source": [
    "\n",
    "$\\cap_{i\\in I}A_i$ and $\\cup_{i\\in I}A_i$"
   ]
  },
  {
   "cell_type": "code",
   "execution_count": 62,
   "metadata": {},
   "outputs": [
    {
     "name": "stdout",
     "output_type": "stream",
     "text": [
      "sets=[{1, 4, 7}, {1, 6, 7, 8, 9}, {1, 10, 21, 7}]\n",
      "union={1, 4, 6, 7, 8, 9, 10, 21}\n",
      "intersection={1, 7}\n"
     ]
    }
   ],
   "source": [
    "sets = [{1, 7 , 4}, {1, 6,7,8,8,9}, {1, 7, 10, 21}]\n",
    "union = set.union(*sets)\n",
    "intersection = set.intersection(*sets)\n",
    "print('sets={}'.format(sets))\n",
    "print('union={}'.format(union))\n",
    "print('intersection={}'.format(intersection))"
   ]
  },
  {
   "cell_type": "markdown",
   "metadata": {},
   "source": [
    "We can also define cartesian product of any \"number\" of sets $\\prod_{i \\in I}{A_i}$"
   ]
  },
  {
   "cell_type": "code",
   "execution_count": 63,
   "metadata": {},
   "outputs": [
    {
     "name": "stdout",
     "output_type": "stream",
     "text": [
      "prod=[(1, 1, 1), (1, 1, 10), (1, 1, 21), (1, 1, 7), (1, 6, 1), (1, 6, 10), (1, 6, 21), (1, 6, 7), (1, 7, 1), (1, 7, 10), (1, 7, 21), (1, 7, 7), (1, 8, 1), (1, 8, 10), (1, 8, 21), (1, 8, 7), (1, 9, 1), (1, 9, 10), (1, 9, 21), (1, 9, 7), (4, 1, 1), (4, 1, 10), (4, 1, 21), (4, 1, 7), (4, 6, 1), (4, 6, 10), (4, 6, 21), (4, 6, 7), (4, 7, 1), (4, 7, 10), (4, 7, 21), (4, 7, 7), (4, 8, 1), (4, 8, 10), (4, 8, 21), (4, 8, 7), (4, 9, 1), (4, 9, 10), (4, 9, 21), (4, 9, 7), (7, 1, 1), (7, 1, 10), (7, 1, 21), (7, 1, 7), (7, 6, 1), (7, 6, 10), (7, 6, 21), (7, 6, 7), (7, 7, 1), (7, 7, 10), (7, 7, 21), (7, 7, 7), (7, 8, 1), (7, 8, 10), (7, 8, 21), (7, 8, 7), (7, 9, 1), (7, 9, 10), (7, 9, 21), (7, 9, 7)]\n"
     ]
    }
   ],
   "source": [
    "from itertools import product\n",
    "\n",
    "prod = [p for p in product(*sets)]\n",
    "print('prod={}'.format(prod))"
   ]
  },
  {
   "cell_type": "markdown",
   "metadata": {},
   "source": [
    "- $\\overline{\\cap_{i\\in I}A_i} = \\cup_{i\\in I}\\overline{A_i}$\n",
    "- $\\overline{\\cup_{i\\in I}A_i} = \\cap_{i\\in I}\\overline{A_i}$\n",
    "<br>\n",
    "or\n",
    "<br>\n",
    "- $\\overline{A \\cap B} = \\overline{A} \\cup \\overline{B}$\n",
    "- $\\overline{A \\cup B} = \\overline{A} \\cap \\overline{B}$"
   ]
  },
  {
   "cell_type": "markdown",
   "metadata": {},
   "source": [
    "Prove that:\n",
    "$$A \\cap (B \\cup C)=(A \\cap B) \\cup (A\\cap C)$$\n",
    "$$A \\cup (B \\cap C)=(A \\cup B) \\cap (A\\cup C)$$"
   ]
  },
  {
   "cell_type": "markdown",
   "metadata": {},
   "source": [
    "# Proof $A \\cap (B \\cup C)=(A \\cap B) \\cup (A\\cap C)$\n",
    "\n",
    "\n",
    "$ \\forall x: ( x \\in A \\cap (B \\cup C) \\implies x \\in A, x \\in B \\cup C \\implies x \\in B$ or $x \\in C $\n",
    "\n",
    "$\\implies x \\in B$ or $ x \\in C \\implies x \\in A \\cap B $ or $ x \\in A \\cap C $\n",
    "\n",
    "$\\implies x \\in (A \\cap B) \\cup (A \\cap C)$"
   ]
  },
  {
   "cell_type": "markdown",
   "metadata": {},
   "source": [
    "# Proof $A \\cup (B \\cap C)=(A \\cup B) \\cap (A\\cup C)$\n",
    "\n",
    "$\\forall x: (x \\in A \\cup B \\cap C \\implies x \\in A $ or $ (x \\in B $ and $ x \\in C) $\n",
    "\n",
    "$ \\implies x \\in A \\cup B$ and $ x \\in A \\cup C $\n",
    "\n",
    "$ \\implies x \\in (A \\cup B) \\cap (A \\cup C)$"
   ]
  },
  {
   "cell_type": "markdown",
   "metadata": {},
   "source": [
    "# Linear Algebra"
   ]
  },
  {
   "cell_type": "markdown",
   "metadata": {},
   "source": [
    "Branch of mathematics widle used in many feilds. We'll introduce you to the essentials used in ML and DL.\n",
    "Many notions are simplified (sorry for mathematicians) for better ubderstanding and implementation.\n",
    "We'll implement some basics of LA in NumPy library and have a glance of it's use in CS fields."
   ]
  },
  {
   "cell_type": "markdown",
   "metadata": {},
   "source": [
    "## Scalars"
   ]
  },
  {
   "cell_type": "markdown",
   "metadata": {},
   "source": [
    "Real set of numbers $\\mathbb{R}$. Scalars as elements of the set of real numbers $x \\in \\mathbb{R}$ with sum, multiplication, etc.\n",
    "We define subset of numbers: natural numbers $\\mathbb{N}$, integers $\\mathbb{Z}$, rational numbers $\\mathbb{Q}$ and irrational numbers $\\mathbb{R}\\setminus\\mathbb{Q}$"
   ]
  },
  {
   "cell_type": "code",
   "execution_count": 66,
   "metadata": {},
   "outputs": [
    {
     "data": {
      "text/plain": [
       "(float, float, float, 105.0)"
      ]
     },
     "execution_count": 66,
     "metadata": {},
     "output_type": "execute_result"
    }
   ],
   "source": [
    "m = 100. \n",
    "n = 5.0\n",
    "type(m), type(n), type(m + n), m + n"
   ]
  },
  {
   "cell_type": "markdown",
   "metadata": {},
   "source": [
    "Take $a \\in \\mathbb{R}$ then for each $b \\in \\mathbb{R}$ there exists $\\alpha \\in \\mathbb{R}$ such that $b = \\alpha a$"
   ]
  },
  {
   "cell_type": "markdown",
   "metadata": {},
   "source": [
    "## Vectors"
   ]
  },
  {
   "cell_type": "markdown",
   "metadata": {},
   "source": [
    "vectors can be considered as subset of cartesian product of $\\mathbb{R}$ ($\\mathbb{N}$, $\\mathbb{Z}$, $\\mathbb{Q}$, etc)\n",
    "<br>\n",
    "For instance vector $x = (x_1, x_2, \\dots, x_n)$ we can write $x \\in \\mathbb{R}^{n}$\n",
    "<br>"
   ]
  },
  {
   "cell_type": "code",
   "execution_count": 68,
   "metadata": {},
   "outputs": [],
   "source": [
    "import numpy as np"
   ]
  },
  {
   "cell_type": "code",
   "execution_count": 69,
   "metadata": {},
   "outputs": [
    {
     "data": {
      "text/plain": [
       "([1, 2, 3, 4], array([1, 2, 3, 4, 5]))"
      ]
     },
     "execution_count": 69,
     "metadata": {},
     "output_type": "execute_result"
    }
   ],
   "source": [
    "la = [1, 2, 3, 4]\n",
    "na = np.array([1,2,3,4,5])\n",
    "la, na"
   ]
  },
  {
   "cell_type": "markdown",
   "metadata": {},
   "source": [
    "In many cases we'll work with collumn vectors like $\\begin{align}\n",
    "    x &= \\begin{bmatrix}\n",
    "           x_{1} \\\\\n",
    "           x_{2} \\\\\n",
    "           \\vdots \\\\\n",
    "           x_{m}\n",
    "         \\end{bmatrix}\n",
    "  \\end{align}$"
   ]
  },
  {
   "cell_type": "markdown",
   "metadata": {},
   "source": [
    "What is the difference between set $\\{a_1, a_2, \\dots, a_n\\}$ and vector $(a_1, a_2, \\dots, a_n)$?"
   ]
  },
  {
   "cell_type": "markdown",
   "metadata": {},
   "source": [
    "Indexing the vectors"
   ]
  },
  {
   "cell_type": "code",
   "execution_count": 70,
   "metadata": {},
   "outputs": [
    {
     "data": {
      "text/plain": [
       "(4, 3, [3, 4], [1, 2, 3], [3, 4])"
      ]
     },
     "execution_count": 70,
     "metadata": {},
     "output_type": "execute_result"
    }
   ],
   "source": [
    "la[-1], la[2], la[2:], la[:-1], la[2:4]"
   ]
  },
  {
   "cell_type": "code",
   "execution_count": 71,
   "metadata": {},
   "outputs": [
    {
     "data": {
      "text/plain": [
       "(5, 3, array([3, 4, 5]), array([1, 2, 3, 4]), array([3, 4]))"
      ]
     },
     "execution_count": 71,
     "metadata": {},
     "output_type": "execute_result"
    }
   ],
   "source": [
    "na[-1], na[2], na[2:], na[:-1], na[2:4]"
   ]
  },
  {
   "cell_type": "code",
   "execution_count": 72,
   "metadata": {},
   "outputs": [
    {
     "data": {
      "text/plain": [
       "array([2, 3])"
      ]
     },
     "execution_count": 72,
     "metadata": {},
     "output_type": "execute_result"
    }
   ],
   "source": [
    "lid = [1, 2]\n",
    "na[lid]"
   ]
  },
  {
   "cell_type": "code",
   "execution_count": 73,
   "metadata": {},
   "outputs": [],
   "source": [
    "nid = np.array(lid)"
   ]
  },
  {
   "cell_type": "code",
   "execution_count": 74,
   "metadata": {},
   "outputs": [
    {
     "data": {
      "text/plain": [
       "array([2, 3])"
      ]
     },
     "execution_count": 74,
     "metadata": {},
     "output_type": "execute_result"
    }
   ],
   "source": [
    "na[lid]"
   ]
  },
  {
   "cell_type": "markdown",
   "metadata": {},
   "source": [
    "## Matrices"
   ]
  },
  {
   "cell_type": "markdown",
   "metadata": {},
   "source": [
    "Matrix $X$ can be considered as mulitidimensional array \n",
    "$\\begin{align}\n",
    "    X &= \\begin{matrix}\n",
    "        x_{11} & x_{12} & \\dots x_{1m} \\\\\n",
    "        x_{21} & x_{22} & \\dots x_{2m} \\\\\n",
    "        \\vdots & \\vdots & \\vdots \\\\\n",
    "        x_{n1} & x_{n2} & \\dots x_{nm} \\\\\n",
    "    \\end{matrix}\n",
    "\\end{align}$\n",
    "or \n",
    "$\\begin{align}\n",
    "    X &= \\begin{pmatrix}\n",
    "        x_{11} & x_{12} & \\dots x_{1m} \\\\\n",
    "        x_{21} & x_{22} & \\dots x_{2m} \\\\\n",
    "        \\vdots & \\vdots & \\vdots \\\\\n",
    "        x_{n1} & x_{n2} & \\dots x_{nm} \\\\\n",
    "    \\end{pmatrix}\n",
    "\\end{align}$\n",
    "or\n",
    "$\\begin{align}\n",
    "    X &= \\begin{bmatrix}\n",
    "        x_{11} & x_{12} & \\dots x_{1m} \\\\\n",
    "        x_{21} & x_{22} & \\dots x_{2m} \\\\\n",
    "        \\vdots & \\vdots & \\vdots \\\\\n",
    "        x_{n1} & x_{n2} & \\dots x_{nm} \\\\\n",
    "    \\end{bmatrix}\n",
    "\\end{align}$\n",
    "<br>\n",
    "Matrix also can be defined by indices $A_{i, j}$ if we don't need concrete demensions"
   ]
  },
  {
   "cell_type": "markdown",
   "metadata": {},
   "source": [
    "We say that $X$ has $n \\times m$ dimension\n",
    "<br>\n",
    "or $X \\in \\mathbb{R}^{n \\times m}$"
   ]
  },
  {
   "cell_type": "markdown",
   "metadata": {},
   "source": [
    "e.g. $\\begin{align}\n",
    "    X &= \\begin{pmatrix}\n",
    "        1 & 2 & 3 \\\\\n",
    "        4 & 5 & 6 \\\\\n",
    "        7 & 8 & 9 \\\\\n",
    "    \\end{pmatrix}\n",
    "\\end{align}$\n",
    "<br>\n",
    "Then $X_{23} = 6$"
   ]
  },
  {
   "cell_type": "markdown",
   "metadata": {},
   "source": [
    "Main diagonal of matrix $X$ are elements $x_{i,j}$ where $i = j$\n",
    "<br>\n",
    "$\\begin{align}\n",
    "    X &= \\begin{pmatrix}\n",
    "        x_{11} &  & \\dots \\\\\n",
    "         & x_{22} & \\dots \\\\\n",
    "        \\vdots & \\vdots & \\vdots \\\\\n",
    "         &  & \\dots x_{nm} \\\\\n",
    "    \\end{pmatrix}\n",
    "\\end{align}$\n"
   ]
  },
  {
   "cell_type": "code",
   "execution_count": 75,
   "metadata": {},
   "outputs": [
    {
     "name": "stdout",
     "output_type": "stream",
     "text": [
      "[[1, 2, 3], [4, 5, 6], [7, 8, 9]]\n",
      "[[1 2 3]\n",
      " [4 5 6]\n",
      " [7 8 9]]\n"
     ]
    }
   ],
   "source": [
    "lm = [[1, 2, 3], [4, 5, 6], [7, 8, 9]]\n",
    "nm = np.array(lm) # np.array([[1, 2, 3], [4, 5, 6]])\n",
    "print(lm)\n",
    "print(nm)"
   ]
  },
  {
   "cell_type": "code",
   "execution_count": 76,
   "metadata": {},
   "outputs": [
    {
     "data": {
      "text/plain": [
       "(6, 6)"
      ]
     },
     "execution_count": 76,
     "metadata": {},
     "output_type": "execute_result"
    }
   ],
   "source": [
    "lm[1][2], nm[1][2]"
   ]
  },
  {
   "cell_type": "code",
   "execution_count": 77,
   "metadata": {},
   "outputs": [
    {
     "data": {
      "text/plain": [
       "([[4, 5, 6], [7, 8, 9]], array([[4, 5, 6],\n",
       "        [7, 8, 9]]))"
      ]
     },
     "execution_count": 77,
     "metadata": {},
     "output_type": "execute_result"
    }
   ],
   "source": [
    "lm[1:], nm[1:]"
   ]
  },
  {
   "cell_type": "code",
   "execution_count": 78,
   "metadata": {},
   "outputs": [
    {
     "name": "stdout",
     "output_type": "stream",
     "text": [
      "[[4, 5, 6]]\n",
      "[[4 5 6]\n",
      " [7 8 9]]\n",
      "[1 2 3]\n"
     ]
    },
    {
     "data": {
      "text/plain": [
       "(array([[12,  2,  3],\n",
       "        [ 4,  5,  6],\n",
       "        [ 7,  8,  9]]), array([12,  2,  3]))"
      ]
     },
     "execution_count": 78,
     "metadata": {},
     "output_type": "execute_result"
    }
   ],
   "source": [
    "print(lm[1:2]) \n",
    "print(nm[1:, :]) \n",
    "nc_1 = nm[0, :]\n",
    "print(nc_1)\n",
    "nc_1[0] = 12\n",
    "nm, nc_1"
   ]
  },
  {
   "cell_type": "code",
   "execution_count": 79,
   "metadata": {},
   "outputs": [
    {
     "data": {
      "text/plain": [
       "array([12,  5,  9])"
      ]
     },
     "execution_count": 79,
     "metadata": {},
     "output_type": "execute_result"
    }
   ],
   "source": [
    "np.diag(nm, k=0)"
   ]
  },
  {
   "cell_type": "markdown",
   "metadata": {},
   "source": [
    "## Tensors"
   ]
  },
  {
   "cell_type": "markdown",
   "metadata": {},
   "source": [
    "Let's go to the higher dimesions and define tensor $X$ as part of $R^{n \\times m \\times k}$\n",
    "<br>\n",
    "then we have a three indices instead of two, and $x_{i, j, k}$ is the element of tensor $X$ across the $i, j$ and $k$ indices"
   ]
  },
  {
   "cell_type": "markdown",
   "metadata": {},
   "source": [
    "In similar manner we can define more than three dimensional tensors $X \\in \\mathbb{R}^{n_1 \\times n_2 \\times \\dots \\times n_p}$"
   ]
  },
  {
   "cell_type": "code",
   "execution_count": 80,
   "metadata": {},
   "outputs": [
    {
     "name": "stdout",
     "output_type": "stream",
     "text": [
      "[[[ 1  2  3]\n",
      "  [ 4  5  6]\n",
      "  [ 7  8  9]]\n",
      "\n",
      " [[10 11 12]\n",
      "  [13 14 15]\n",
      "  [16 17 18]]]\n",
      "[[[1, 2, 3], [4, 5, 6], [7, 8, 9]], [[10, 11, 12], [13, 14, 15], [16, 17, 18]]]\n"
     ]
    }
   ],
   "source": [
    "lt = [[[1, 2, 3], [4, 5, 6], [7, 8, 9]], [[10, 11, 12], [13, 14, 15], [16, 17, 18]]]\n",
    "mt = np.array(lt) # or np.array([[[1, 2, 3], [4, 5, 6], [7, 8, 9]], [[10, 11, 12], [13, 14, 15], [16, 17, 18]]])\n",
    "print(mt)\n",
    "print(lt)"
   ]
  },
  {
   "cell_type": "code",
   "execution_count": 81,
   "metadata": {},
   "outputs": [],
   "source": [
    "mt = np.random.randint(0,100, size=(3, 3, 3))"
   ]
  },
  {
   "cell_type": "code",
   "execution_count": 82,
   "metadata": {},
   "outputs": [
    {
     "data": {
      "text/plain": [
       "array([[[64, 30, 70],\n",
       "        [ 6, 16, 27],\n",
       "        [82, 92, 78]],\n",
       "\n",
       "       [[52,  4, 94],\n",
       "        [91, 52, 72],\n",
       "        [51, 68,  7]],\n",
       "\n",
       "       [[33, 20, 45],\n",
       "        [70, 66, 44],\n",
       "        [13, 36, 85]]])"
      ]
     },
     "execution_count": 82,
     "metadata": {},
     "output_type": "execute_result"
    }
   ],
   "source": [
    "mt"
   ]
  },
  {
   "cell_type": "code",
   "execution_count": 84,
   "metadata": {},
   "outputs": [],
   "source": [
    "md = np.random.randint(0,100, size=(2, 3, 4))"
   ]
  },
  {
   "cell_type": "code",
   "execution_count": 85,
   "metadata": {
    "scrolled": false
   },
   "outputs": [
    {
     "data": {
      "text/plain": [
       "array([[[50, 55, 97, 27],\n",
       "        [61, 17, 42, 98],\n",
       "        [ 8,  3, 97, 33]],\n",
       "\n",
       "       [[78,  1, 61, 52],\n",
       "        [77, 87, 17, 70],\n",
       "        [13, 23, 87, 49]]])"
      ]
     },
     "execution_count": 85,
     "metadata": {},
     "output_type": "execute_result"
    }
   ],
   "source": [
    "md"
   ]
  },
  {
   "cell_type": "code",
   "execution_count": 88,
   "metadata": {},
   "outputs": [],
   "source": [
    "mmd = np.random.randint(0,100, size=(2, 3, 4, 5, 6))"
   ]
  },
  {
   "cell_type": "code",
   "execution_count": 89,
   "metadata": {
    "scrolled": false
   },
   "outputs": [
    {
     "data": {
      "text/plain": [
       "array([[[[[12,  0, 79, 89, 48, 65],\n",
       "          [80, 80, 71, 34, 26, 88],\n",
       "          [87, 80, 68, 32, 23, 29],\n",
       "          [13, 78, 12, 69, 23, 89],\n",
       "          [ 6, 14, 95,  4,  3, 64]],\n",
       "\n",
       "         [[46, 45, 61, 14, 58, 91],\n",
       "          [42, 89, 37, 54, 38, 31],\n",
       "          [31, 81,  2, 66, 12, 21],\n",
       "          [53, 48, 60, 19,  9, 56],\n",
       "          [71,  4,  3, 25, 77, 28]],\n",
       "\n",
       "         [[77, 11, 36, 55, 64, 22],\n",
       "          [ 5, 44, 95, 62, 69, 46],\n",
       "          [96, 83, 69, 89, 97, 80],\n",
       "          [39, 62, 40,  7, 18, 85],\n",
       "          [94, 48, 75, 71, 50, 74]],\n",
       "\n",
       "         [[44, 56, 18, 59, 16, 72],\n",
       "          [90, 32, 18, 70, 41,  8],\n",
       "          [59, 97, 44, 33, 21, 22],\n",
       "          [16, 46, 32, 46, 68, 25],\n",
       "          [80, 33, 80, 97, 29, 14]]],\n",
       "\n",
       "\n",
       "        [[[20,  1,  4,  8, 51, 77],\n",
       "          [50, 19, 40, 74, 88, 71],\n",
       "          [47, 49, 99, 20, 90, 94],\n",
       "          [94, 23, 71, 60, 30,  0],\n",
       "          [65, 83, 71,  7, 22, 32]],\n",
       "\n",
       "         [[63,  2, 76, 20, 57, 14],\n",
       "          [24, 92, 84, 40, 59, 63],\n",
       "          [46, 13, 61, 33, 38, 43],\n",
       "          [48, 79, 30, 49, 56, 20],\n",
       "          [79, 35, 34, 37, 78, 22]],\n",
       "\n",
       "         [[49, 90, 96, 49, 78, 28],\n",
       "          [ 5, 27, 96, 51, 30, 89],\n",
       "          [39, 68, 10, 22, 16, 23],\n",
       "          [25, 82, 54, 51, 45, 28],\n",
       "          [20, 39, 77, 27, 46, 55]],\n",
       "\n",
       "         [[85, 70, 13, 97,  1, 40],\n",
       "          [65, 37, 15, 26, 58, 73],\n",
       "          [ 5, 97, 91, 90, 83, 65],\n",
       "          [96, 80, 60, 41, 44, 30],\n",
       "          [89, 21, 83,  7, 51, 82]]],\n",
       "\n",
       "\n",
       "        [[[93, 89, 36, 10, 37, 68],\n",
       "          [13, 78, 56, 55, 61, 77],\n",
       "          [21, 63, 51, 44, 98,  1],\n",
       "          [99, 91,  2, 17, 17, 83],\n",
       "          [54, 48, 16, 87, 99, 36]],\n",
       "\n",
       "         [[18, 12, 97, 25, 41, 50],\n",
       "          [ 4, 23, 34, 24, 38, 95],\n",
       "          [61, 99, 56, 50, 93, 51],\n",
       "          [66, 43, 82,  7, 33, 25],\n",
       "          [83,  6, 64, 22, 22, 56]],\n",
       "\n",
       "         [[26, 96, 45, 82, 83, 30],\n",
       "          [20, 48, 45, 87, 94, 59],\n",
       "          [39, 98, 85, 98, 68, 10],\n",
       "          [ 5, 24, 23, 59, 19, 79],\n",
       "          [74, 58, 26, 60, 99, 78]],\n",
       "\n",
       "         [[60, 26, 19, 36, 26, 24],\n",
       "          [39, 84, 23, 98, 14, 41],\n",
       "          [65, 34, 61, 34, 67, 96],\n",
       "          [57, 78, 33, 12,  8, 17],\n",
       "          [37, 27, 75, 63, 13,  6]]]],\n",
       "\n",
       "\n",
       "\n",
       "       [[[[37, 55, 84, 91, 57, 43],\n",
       "          [13, 82, 93, 70, 87, 23],\n",
       "          [90, 58, 60, 77, 50, 10],\n",
       "          [74, 43, 20, 19, 44, 16],\n",
       "          [44, 85, 46, 26, 98, 73]],\n",
       "\n",
       "         [[58, 81, 50, 15, 16, 71],\n",
       "          [ 2, 27, 78, 37,  7, 45],\n",
       "          [48, 84,  7, 83, 39,  4],\n",
       "          [64, 86, 11, 15, 55, 39],\n",
       "          [75, 10, 26, 70, 79, 95]],\n",
       "\n",
       "         [[72, 52, 84, 26,  8,  6],\n",
       "          [31, 36,  9, 46, 48, 73],\n",
       "          [22,  7, 31, 59, 34, 36],\n",
       "          [93, 61, 17,  3, 43, 53],\n",
       "          [48, 78, 36, 54, 73, 18]],\n",
       "\n",
       "         [[45, 73, 70,  5,  5, 97],\n",
       "          [12,  5,  5, 10, 28, 52],\n",
       "          [22, 26, 11, 26, 80, 32],\n",
       "          [89, 85, 69, 10, 16, 73],\n",
       "          [47, 59, 61, 30, 49, 98]]],\n",
       "\n",
       "\n",
       "        [[[85, 29, 46, 66, 59, 51],\n",
       "          [72,  9, 37, 84, 24, 84],\n",
       "          [11,  0, 62, 17,  5, 80],\n",
       "          [80, 58, 35,  6, 27, 51],\n",
       "          [ 8, 92, 14, 64, 20, 70]],\n",
       "\n",
       "         [[55,  4, 82, 22, 69, 19],\n",
       "          [29, 90, 20, 95, 18,  9],\n",
       "          [97, 62, 60, 30, 46, 13],\n",
       "          [45, 62, 60, 74, 47, 60],\n",
       "          [90, 85, 87, 83, 44, 39]],\n",
       "\n",
       "         [[14, 31, 35,  4, 85, 38],\n",
       "          [68, 72, 13, 82, 13,  1],\n",
       "          [21, 56, 48, 89, 70, 43],\n",
       "          [58, 29, 66, 88,  1, 72],\n",
       "          [30, 99, 11, 42, 78, 32]],\n",
       "\n",
       "         [[36, 56, 11, 11, 41, 60],\n",
       "          [70, 34, 52, 47, 44, 50],\n",
       "          [59, 44, 78,  0, 67, 60],\n",
       "          [24, 75, 19, 37, 61, 33],\n",
       "          [56, 22, 95, 32,  2, 62]]],\n",
       "\n",
       "\n",
       "        [[[40, 93, 22, 79, 93, 80],\n",
       "          [ 8, 58, 37, 42, 62, 90],\n",
       "          [84, 82, 69, 40, 98, 30],\n",
       "          [ 7, 19, 35,  8,  9, 44],\n",
       "          [12, 98, 25, 71, 38,  4]],\n",
       "\n",
       "         [[ 0, 99,  2,  5, 15, 44],\n",
       "          [64, 76, 60, 99, 19, 67],\n",
       "          [98, 76, 41, 66, 49, 34],\n",
       "          [96, 84, 27, 86, 93, 73],\n",
       "          [78, 32, 52, 67, 85, 47]],\n",
       "\n",
       "         [[15, 50, 69, 37, 53, 99],\n",
       "          [97, 28, 36, 21, 89, 60],\n",
       "          [17,  8, 37, 68, 21, 82],\n",
       "          [32, 59, 80, 85, 64, 94],\n",
       "          [63, 33, 39, 73, 47, 24]],\n",
       "\n",
       "         [[96, 61, 80, 12, 39, 90],\n",
       "          [60, 37, 66, 16, 41, 53],\n",
       "          [50, 32, 97, 28, 69, 73],\n",
       "          [97, 20, 30, 17, 39,  7],\n",
       "          [55, 55, 65, 66, 37, 31]]]]])"
      ]
     },
     "execution_count": 89,
     "metadata": {},
     "output_type": "execute_result"
    }
   ],
   "source": [
    "mmd"
   ]
  },
  {
   "cell_type": "markdown",
   "metadata": {},
   "source": [
    "Transpose of matrix $X$ denoted by $X^T$ defined by elements $(X^{T})_{i, j} = X_{j, i}$ or $X \\in \\mathbb{R}^{n \\times m}$ then $T^{T} \\in \\mathbb{R}^{m \\times n}$\n",
    "<br>\n",
    "e.g.\n",
    "<br>\n",
    "$\\begin{align}\n",
    "    X &= \\begin{pmatrix}\n",
    "        x_{11} & x_{12} & \\dots x_{1m} \\\\\n",
    "        x_{21} & x_{22} & \\dots x_{2m} \\\\\n",
    "        \\vdots & \\vdots & \\vdots \\\\\n",
    "        x_{n1} & x_{n2} & \\dots x_{nm} \\\\\n",
    "    \\end{pmatrix}\n",
    "\\end{align}$ then $\\begin{align}\n",
    "    X^{T} &= \\begin{pmatrix}\n",
    "        x_{11} & x_{21} & \\dots x_{m1} \\\\\n",
    "        x_{12} & x_{22} & \\dots x_{m2} \\\\\n",
    "        \\vdots & \\vdots & \\vdots \\\\\n",
    "        x_{1n} & x_{2n} & \\dots x_{mn} \\\\\n",
    "    \\end{pmatrix}\n",
    "\\end{align}$"
   ]
  },
  {
   "cell_type": "markdown",
   "metadata": {},
   "source": [
    "Transpose can be thought as mirror along with the main diagonal"
   ]
  },
  {
   "cell_type": "markdown",
   "metadata": {},
   "source": [
    "Visualisation of transpose matrix $X \\in \\mathbb{R}^{4 \\times 4}$"
   ]
  },
  {
   "cell_type": "markdown",
   "metadata": {},
   "source": [
    "![SegmentLocal](images/la1/transpose1.gif \"segment\")"
   ]
  },
  {
   "cell_type": "markdown",
   "metadata": {},
   "source": [
    "Transpose matrix $X \\in \\mathbb{R}^{2 \\times 3}$"
   ]
  },
  {
   "cell_type": "markdown",
   "metadata": {},
   "source": [
    "![SegmentLocal](images/la1/transpose2.gif \"segment\")"
   ]
  },
  {
   "cell_type": "markdown",
   "metadata": {},
   "source": [
    "We can consider scalar as one dimensional vector and vector as $v = (v_1, v_2, \\dots, v_n)$ as matrix with $1 \\times n$ dimensions and \n",
    "$\\begin{align}\n",
    "    u &= \\begin{bmatrix}\n",
    "           u_{1} \\\\\n",
    "           u_{2} \\\\\n",
    "           \\vdots \\\\\n",
    "           u_{m}\n",
    "         \\end{bmatrix}\n",
    " \\end{align}$ as matrix with $m \\times 1$ dimensions\n",
    "<br>\n",
    "then \n",
    "$\\begin{align}\n",
    "    v^{T} &= \\begin{bmatrix}\n",
    "           v_{1} \\\\\n",
    "           v_{2} \\\\\n",
    "           \\vdots \\\\\n",
    "           v_{n}\n",
    "         \\end{bmatrix}\n",
    " \\end{align}$ and $u^{T} = (u_1, u_2, \\dots, u_m)$"
   ]
  },
  {
   "cell_type": "code",
   "execution_count": 90,
   "metadata": {},
   "outputs": [
    {
     "name": "stdout",
     "output_type": "stream",
     "text": [
      "[[12  2  3]\n",
      " [ 4  5  6]\n",
      " [ 7  8  9]]\n"
     ]
    }
   ],
   "source": [
    "print(nm)"
   ]
  },
  {
   "cell_type": "code",
   "execution_count": 91,
   "metadata": {},
   "outputs": [
    {
     "name": "stdout",
     "output_type": "stream",
     "text": [
      "[[12  4  7]\n",
      " [ 2  5  8]\n",
      " [ 3  6  9]]\n"
     ]
    }
   ],
   "source": [
    "print(nm.T)"
   ]
  },
  {
   "cell_type": "markdown",
   "metadata": {},
   "source": [
    "For scalar $a \\in \\mathbb{R}$ we have $a^{T} = a$"
   ]
  },
  {
   "cell_type": "markdown",
   "metadata": {},
   "source": [
    "# Operations on Matrices"
   ]
  },
  {
   "cell_type": "markdown",
   "metadata": {},
   "source": [
    "We can add two $A, B \\in \\mathbb{R}^{n \\times m}$ matrices $C = A + B$ as \n",
    "$\\begin{align}\n",
    "    C &= \\begin{pmatrix}\n",
    "        {a_{11} + b_{11}} & {a_{12} + b_{12}} & \\dots {a_{1m} + b_{1m}} \\\\\n",
    "        {a_{21} + b_{21}} & {a_{22} + b_{22}} & \\dots {a_{2m} + b_{2m}} \\\\\n",
    "        \\vdots & \\vdots & \\vdots \\\\\n",
    "        {a_{n1} + b_{n1}} & {a_{n2} + b_{n2}} & \\dots {a_{nm} + b_{nm}} \\\\\n",
    "    \\end{pmatrix}\n",
    "\\end{align}$ or we could write $c_{i, j} = a_{i, j} + b_{i, j}$"
   ]
  },
  {
   "cell_type": "code",
   "execution_count": 92,
   "metadata": {},
   "outputs": [
    {
     "name": "stdout",
     "output_type": "stream",
     "text": [
      "[[ 2  4  6]\n",
      " [12 14 16]\n",
      " [22 24 26]]\n",
      "[[ 1  3  4]\n",
      " [11 13 14]\n",
      " [42 44 44]]\n",
      "[[ 3  7 10]\n",
      " [23 27 30]\n",
      " [64 68 70]]\n"
     ]
    }
   ],
   "source": [
    "m1 = np.array([[2, 4, 6], [12, 14, 16], [22, 24, 26]])\n",
    "m2 = np.array([[1, 3, 4], [11, 13, 14], [42, 44, 44]])\n",
    "print(m1)\n",
    "print(m2)\n",
    "print(m1 + m2)"
   ]
  },
  {
   "cell_type": "markdown",
   "metadata": {},
   "source": [
    "Add scalar $a \\in \\mathbb{R}$ and matrix $X \\in \\mathbb{R}^{n \\times m}$ as \n",
    "$\\begin{align}\n",
    "    X + a &= \\begin{pmatrix}\n",
    "        {x_{11} + a} & {x_{12} + a} & \\dots {x_{1m} + a} \\\\\n",
    "        {x_{21} + a} & {x_{22} + a} & \\dots {x_{2m} + a} \\\\\n",
    "        \\vdots & \\vdots & \\vdots \\\\\n",
    "        {x_{n1} + a} & {x_{n2} + a} & \\dots {x_{nm} + a} \\\\\n",
    "    \\end{pmatrix}\n",
    "\\end{align}$ or we could write ${(X + a)}_{i, j} = x_{i, j} + a$\n",
    "<br>\n",
    "In the same way we can define ${(a + X)}_{i, j} = a + x_{i, j}$\n",
    "<br>\n",
    "Multiplication of scalar and matrix\n",
    "$\\begin{align}\n",
    "    Xa &= \\begin{pmatrix}\n",
    "        {x_{11}a} & {x_{12}a} & \\dots {x_{1m}a} \\\\\n",
    "        {x_{21}a} & {x_{22}a} & \\dots {x_{2m}a} \\\\\n",
    "        \\vdots & \\vdots & \\vdots \\\\\n",
    "        {x_{n1}a} & {x_{n2}a} & \\dots {x_{nm}a} \\\\\n",
    "    \\end{pmatrix}\n",
    "\\end{align}$ or we could write ${(X + a)}_{i, j} = x_{i, j} + a$\n",
    "<br>\n",
    "In the same way we can define ${(aX)}_{i, j} = ax_{i, j}$\n",
    "<br>\n",
    "so we have $C = aX + b$ for $a \\in \\mathbb{R}$ and matrix $X \\in \\mathbb{R}^{n \\times m}$\n"
   ]
  },
  {
   "cell_type": "markdown",
   "metadata": {},
   "source": [
    "Prove that $a + X = X + a$ and $aX = Xa$ for every scalar $a \\in \\mathbb{R}$ and matrix $X \\in \\mathbb{R}^{n \\times m}$"
   ]
  },
  {
   "cell_type": "code",
   "execution_count": 93,
   "metadata": {},
   "outputs": [
    {
     "data": {
      "text/plain": [
       "(array([[ 2,  4,  6],\n",
       "        [12, 14, 16],\n",
       "        [22, 24, 26]]), array([[ 12,  22,  32],\n",
       "        [ 62,  72,  82],\n",
       "        [112, 122, 132]]))"
      ]
     },
     "execution_count": 93,
     "metadata": {},
     "output_type": "execute_result"
    }
   ],
   "source": [
    "m1, m1*5 + 2"
   ]
  },
  {
   "cell_type": "markdown",
   "metadata": {},
   "source": [
    "Add matrix and vector $A + b$ where $A \\in \\mathbb{R}^{n \\times m}$ $b \\in \\mathbb{R}^{1 \\times m}$ can be done by broadcasting\n",
    "<br>\n",
    "$C_{i, j} = A_{i, j} + b_{j}$"
   ]
  },
  {
   "cell_type": "code",
   "execution_count": 94,
   "metadata": {},
   "outputs": [],
   "source": [
    "v1 = np.array([[2], [4], [6]])\n"
   ]
  },
  {
   "cell_type": "code",
   "execution_count": 95,
   "metadata": {},
   "outputs": [
    {
     "name": "stdout",
     "output_type": "stream",
     "text": [
      "[[ 2  4  6]\n",
      " [12 14 16]\n",
      " [22 24 26]]\n",
      "[[2]\n",
      " [4]\n",
      " [6]]\n",
      "[[2 4 6]]\n",
      "[[ 4  6  8]\n",
      " [16 18 20]\n",
      " [28 30 32]]\n",
      "[[ 4  8 12]\n",
      " [14 18 22]\n",
      " [24 28 32]]\n"
     ]
    }
   ],
   "source": [
    "print(m1)\n",
    "print(v1)\n",
    "print(v1.T)\n",
    "print(m1 + v1)\n",
    "print(m1 + v1.T)"
   ]
  },
  {
   "cell_type": "markdown",
   "metadata": {},
   "source": [
    "For matrix $A \\in \\mathbb{R}^{n \\times m}$ and $B \\in \\mathbb{R}^{m \\times l}$ let's define $C = AB$ as $C_{i, j} = \\sum_{k = 1}^{n}{A_{i, k}B_{k, j}}$ it is clear that $C \\in \\mathbb{R}^{n \\times l}$"
   ]
  },
  {
   "cell_type": "markdown",
   "metadata": {},
   "source": [
    "Lets visualize"
   ]
  },
  {
   "cell_type": "markdown",
   "metadata": {},
   "source": [
    "![SegmentLocal](images/la1/mult1.gif \"segment\")"
   ]
  },
  {
   "cell_type": "code",
   "execution_count": 96,
   "metadata": {},
   "outputs": [],
   "source": [
    "m1 = np.array([[1, 2, 1], [0, 1, 0], [2, 3, 4]])\n",
    "m2 = np.array([[2, 5], [6, 7], [1, 8]])"
   ]
  },
  {
   "cell_type": "code",
   "execution_count": 97,
   "metadata": {},
   "outputs": [
    {
     "name": "stdout",
     "output_type": "stream",
     "text": [
      "[[1 2 1]\n",
      " [0 1 0]\n",
      " [2 3 4]]\n",
      "[[2 5]\n",
      " [6 7]\n",
      " [1 8]]\n"
     ]
    }
   ],
   "source": [
    "print(m1)\n",
    "print(m2)"
   ]
  },
  {
   "cell_type": "code",
   "execution_count": 98,
   "metadata": {},
   "outputs": [],
   "source": [
    "m3 = m1 @ m2"
   ]
  },
  {
   "cell_type": "code",
   "execution_count": 99,
   "metadata": {},
   "outputs": [
    {
     "name": "stdout",
     "output_type": "stream",
     "text": [
      "[[15 27]\n",
      " [ 6  7]\n",
      " [26 63]]\n"
     ]
    }
   ],
   "source": [
    "print(m3)"
   ]
  },
  {
   "cell_type": "markdown",
   "metadata": {},
   "source": [
    "Or slower version"
   ]
  },
  {
   "cell_type": "markdown",
   "metadata": {},
   "source": [
    "![SegmentLocal](images/la1/mult2.gif \"segment\")"
   ]
  },
  {
   "cell_type": "code",
   "execution_count": 100,
   "metadata": {},
   "outputs": [],
   "source": [
    "n1 = np.array([[8, 1, 2], [-5, 6, 7]])\n",
    "n2 = np.array([[-5, 1], [0, 2], [-11, 7]])"
   ]
  },
  {
   "cell_type": "code",
   "execution_count": 101,
   "metadata": {},
   "outputs": [
    {
     "name": "stdout",
     "output_type": "stream",
     "text": [
      "[[ 8  1  2]\n",
      " [-5  6  7]]\n",
      "[[ -5   1]\n",
      " [  0   2]\n",
      " [-11   7]]\n"
     ]
    }
   ],
   "source": [
    "print(n1)\n",
    "print(n2)"
   ]
  },
  {
   "cell_type": "code",
   "execution_count": 102,
   "metadata": {},
   "outputs": [],
   "source": [
    "n3 = np.dot(n1, n2)"
   ]
  },
  {
   "cell_type": "code",
   "execution_count": 103,
   "metadata": {},
   "outputs": [
    {
     "name": "stdout",
     "output_type": "stream",
     "text": [
      "[[-62  24]\n",
      " [-52  56]]\n"
     ]
    }
   ],
   "source": [
    "print(n3) #, n3"
   ]
  },
  {
   "cell_type": "markdown",
   "metadata": {},
   "source": [
    "Hadamard product of $A \\in \\mathbb{R^{n \\times m}}$ and $B \\in \\mathbb{R^{n \\times m}}$ define $C = A \\odot B$ if $C_{i, j} = A_{i, j}B_{i, j}$ (elementwise product)"
   ]
  },
  {
   "cell_type": "code",
   "execution_count": 104,
   "metadata": {},
   "outputs": [],
   "source": [
    "a1 = np.random.random(size=(2, 3))\n",
    "a2 = np.random.random(size=(2, 3))"
   ]
  },
  {
   "cell_type": "code",
   "execution_count": 105,
   "metadata": {},
   "outputs": [
    {
     "name": "stdout",
     "output_type": "stream",
     "text": [
      "[[0.97438359 0.38582415 0.73489182]\n",
      " [0.50256481 0.11059785 0.0256423 ]]\n",
      "[[0.45528183 0.83716544 0.23269749]\n",
      " [0.51778272 0.22749834 0.08628343]]\n",
      "[[0.44361915 0.32299864 0.17100748]\n",
      " [0.26021937 0.02516083 0.00221251]]\n"
     ]
    }
   ],
   "source": [
    "print(a1)\n",
    "\n",
    "print(a2)\n",
    "\n",
    "print(a1 * a2)"
   ]
  },
  {
   "cell_type": "code",
   "execution_count": 106,
   "metadata": {},
   "outputs": [],
   "source": [
    "a1 = np.array([[1, 2], [4, 8], [3., 4.]])\n",
    "a2 = np.array([[2, 4.], [4., 4], [3., 2.]])"
   ]
  },
  {
   "cell_type": "code",
   "execution_count": 107,
   "metadata": {},
   "outputs": [
    {
     "data": {
      "text/plain": [
       "array([[1., 2.],\n",
       "       [4., 8.],\n",
       "       [3., 4.]])"
      ]
     },
     "execution_count": 107,
     "metadata": {},
     "output_type": "execute_result"
    }
   ],
   "source": [
    "a1"
   ]
  },
  {
   "cell_type": "code",
   "execution_count": 108,
   "metadata": {},
   "outputs": [
    {
     "data": {
      "text/plain": [
       "array([[2., 4.],\n",
       "       [4., 4.],\n",
       "       [3., 2.]])"
      ]
     },
     "execution_count": 108,
     "metadata": {},
     "output_type": "execute_result"
    }
   ],
   "source": [
    "a2"
   ]
  },
  {
   "cell_type": "code",
   "execution_count": 109,
   "metadata": {},
   "outputs": [
    {
     "data": {
      "text/plain": [
       "array([[ 2.,  8.],\n",
       "       [16., 32.],\n",
       "       [ 9.,  8.]])"
      ]
     },
     "execution_count": 109,
     "metadata": {},
     "output_type": "execute_result"
    }
   ],
   "source": [
    "a1 * a2"
   ]
  },
  {
   "cell_type": "code",
   "execution_count": 110,
   "metadata": {},
   "outputs": [
    {
     "data": {
      "text/plain": [
       "75.0"
      ]
     },
     "execution_count": 110,
     "metadata": {},
     "output_type": "execute_result"
    }
   ],
   "source": [
    "np.sum(a1 * a2)"
   ]
  },
  {
   "cell_type": "code",
   "execution_count": 111,
   "metadata": {},
   "outputs": [
    {
     "data": {
      "text/plain": [
       "array([[ 2.,  8.],\n",
       "       [16., 32.],\n",
       "       [ 9.,  8.]])"
      ]
     },
     "execution_count": 111,
     "metadata": {},
     "output_type": "execute_result"
    }
   ],
   "source": [
    "np.multiply(a1, a2)"
   ]
  },
  {
   "cell_type": "code",
   "execution_count": 112,
   "metadata": {},
   "outputs": [
    {
     "data": {
      "text/plain": [
       "75.0"
      ]
     },
     "execution_count": 112,
     "metadata": {},
     "output_type": "execute_result"
    }
   ],
   "source": [
    "np.sum(np.multiply(a1, a2))"
   ]
  },
  {
   "cell_type": "code",
   "execution_count": 113,
   "metadata": {},
   "outputs": [],
   "source": [
    "a1 = np.arange(3*2).reshape((3, 2))\n",
    "a1 = np.arange(3*2).reshape((2, 3))"
   ]
  },
  {
   "cell_type": "code",
   "execution_count": 114,
   "metadata": {},
   "outputs": [
    {
     "data": {
      "text/plain": [
       "array([[0, 1, 2],\n",
       "       [3, 4, 5]])"
      ]
     },
     "execution_count": 114,
     "metadata": {},
     "output_type": "execute_result"
    }
   ],
   "source": [
    "a1"
   ]
  },
  {
   "cell_type": "code",
   "execution_count": 115,
   "metadata": {},
   "outputs": [
    {
     "data": {
      "text/plain": [
       "array([[2., 4.],\n",
       "       [4., 4.],\n",
       "       [3., 2.]])"
      ]
     },
     "execution_count": 115,
     "metadata": {},
     "output_type": "execute_result"
    }
   ],
   "source": [
    "a2"
   ]
  },
  {
   "cell_type": "code",
   "execution_count": 116,
   "metadata": {},
   "outputs": [
    {
     "data": {
      "text/plain": [
       "array([[10.,  8.],\n",
       "       [37., 38.]])"
      ]
     },
     "execution_count": 116,
     "metadata": {},
     "output_type": "execute_result"
    }
   ],
   "source": [
    "a1 @ a2"
   ]
  },
  {
   "cell_type": "markdown",
   "metadata": {},
   "source": [
    "Dot product of vectors $v, u \\in \\mathbb{R}^{n}$ define as $v^{T}u$"
   ]
  },
  {
   "cell_type": "markdown",
   "metadata": {},
   "source": [
    "Prove that $v^{T}u = vu^{T}$ for each $v, u \\in \\mathbb{R}^{n}$"
   ]
  },
  {
   "cell_type": "markdown",
   "metadata": {},
   "source": [
    "For each pair of matrices $A, B \\in \\mathbb{R}^{n \\times m}$ holds:\n",
    "- $A + B = B + A$\n",
    "- $A(B + C) = AB + AC$\n",
    "- $A(BC) = (AB)C$"
   ]
  },
  {
   "cell_type": "markdown",
   "metadata": {},
   "source": [
    "Prove that $(AB)^{T} = B^{T}A^{T}$ for each pair of matrices $A, B \\in \\mathbb{R}^{n \\times m}$"
   ]
  },
  {
   "cell_type": "markdown",
   "metadata": {},
   "source": [
    "$(AB)_{ij} = \\sum_{k=1}^n a_{ik} b_{kj}$\n",
    "\n",
    "$[(AB)_{ij}]^T = \\sum_{k=1}^n a_{jk}b_{ki}"
   ]
  },
  {
   "cell_type": "markdown",
   "metadata": {},
   "source": [
    "For instance $Ax=b$"
   ]
  },
  {
   "cell_type": "markdown",
   "metadata": {},
   "source": [
    "Vectorization vs loops"
   ]
  },
  {
   "cell_type": "code",
   "execution_count": null,
   "metadata": {},
   "outputs": [],
   "source": [
    "l1 = np.random.randn(3, 4)\n",
    "l2 = np.random.randn(4, 6)\n",
    "l1, l2"
   ]
  },
  {
   "cell_type": "code",
   "execution_count": null,
   "metadata": {},
   "outputs": [],
   "source": [
    "def dot_prod(mx1, mx2, verbose = False):\n",
    "    mx3 = np.zeros((mx1.shape[0], mx2.shape[1]))\n",
    "    if verbose: print(f'mx3.shape = {mx3.shape}')\n",
    "    for i in range(mx1.shape[0]):\n",
    "        if verbose: print(f'i = {i}')\n",
    "        for k in range(mx2.shape[1]):\n",
    "            if verbose: print(f'\\tk = {k}')\n",
    "            for j in range(mx1.shape[1]):\n",
    "                if verbose: print(f'\\t\\tj = {j}')\n",
    "                s = mx1[i, j] + mx2[j, k]\n",
    "            mx3[i, k] = s\n",
    "    \n",
    "    return mx3\n",
    "            "
   ]
  },
  {
   "cell_type": "code",
   "execution_count": null,
   "metadata": {
    "scrolled": true
   },
   "outputs": [],
   "source": [
    "%time l3_loop = dot_prod(l1, l2)"
   ]
  },
  {
   "cell_type": "code",
   "execution_count": null,
   "metadata": {},
   "outputs": [],
   "source": [
    "l3_loop"
   ]
  },
  {
   "cell_type": "code",
   "execution_count": null,
   "metadata": {},
   "outputs": [],
   "source": [
    "l1 @ l2"
   ]
  },
  {
   "cell_type": "code",
   "execution_count": null,
   "metadata": {
    "scrolled": true
   },
   "outputs": [],
   "source": [
    "b1 = np.random.randn(500, 10000)\n",
    "b2 = np.random.randn(10000, 800)\n",
    "b1, b2"
   ]
  },
  {
   "cell_type": "code",
   "execution_count": null,
   "metadata": {
    "scrolled": false
   },
   "outputs": [],
   "source": [
    "%time b3_loop = dot_prod(b1, b2)"
   ]
  },
  {
   "cell_type": "code",
   "execution_count": null,
   "metadata": {},
   "outputs": [],
   "source": [
    "def dot_prod_2(mx1, mx2, verbose = False):\n",
    "    mx3 = np.zeros((mx1.shape[0], mx2.shape[1]))\n",
    "    if verbose: print(f'mx3.shape = {mx3.shape}')\n",
    "    for i in range(mx1.shape[0]):\n",
    "        if verbose: print(f'i = {i}')\n",
    "        for k in range(mx2.shape[1]):\n",
    "            mx3[i, k] = np.dot(mx1[i, :], mx2[:, k])\n",
    "            if verbose: \n",
    "                print(f'\\tk = {mx1[i:]}') \n",
    "                print(f'\\tk = {mx2[:, k]}')\n",
    "            \n",
    "            #mx3[i, k] = s\n",
    "    \n",
    "    return mx3"
   ]
  },
  {
   "cell_type": "code",
   "execution_count": null,
   "metadata": {
    "scrolled": true
   },
   "outputs": [],
   "source": [
    "%time l3_loop = dot_prod_2(l1, l2)"
   ]
  },
  {
   "cell_type": "code",
   "execution_count": null,
   "metadata": {},
   "outputs": [],
   "source": [
    "l3_loop"
   ]
  },
  {
   "cell_type": "code",
   "execution_count": null,
   "metadata": {
    "scrolled": true
   },
   "outputs": [],
   "source": [
    "%time b3_loop = dot_prod_2(b1, b2)"
   ]
  },
  {
   "cell_type": "markdown",
   "metadata": {},
   "source": [
    "Matrix vector multiplication"
   ]
  },
  {
   "cell_type": "code",
   "execution_count": null,
   "metadata": {},
   "outputs": [],
   "source": [
    "def dot_prod_3(mx1, mx2, verbose = False):\n",
    "    mx3 = np.zeros((mx1.shape[0], mx2.shape[1]))\n",
    "    if verbose: print(f'mx3.shape = {mx3.shape}')\n",
    "    for i in range(mx1.shape[0]):\n",
    "        if verbose: print(f'i = {i}')\n",
    "        mx3[i, :] = np.dot(mx1[i, :], mx2)\n",
    "        if verbose: \n",
    "            print(f'\\tk = {mx2[:, k]}')\n",
    "            \n",
    "            #mx3[i, k] = s\n",
    "    \n",
    "    return mx3"
   ]
  },
  {
   "cell_type": "code",
   "execution_count": null,
   "metadata": {},
   "outputs": [],
   "source": [
    "%time l3_loop = dot_prod_3(l1, l2)"
   ]
  },
  {
   "cell_type": "code",
   "execution_count": null,
   "metadata": {},
   "outputs": [],
   "source": [
    "l3_loop"
   ]
  },
  {
   "cell_type": "code",
   "execution_count": null,
   "metadata": {},
   "outputs": [],
   "source": [
    "%time b3_loop = dot_prod_3(b1, b2)"
   ]
  },
  {
   "cell_type": "markdown",
   "metadata": {},
   "source": [
    "## Vectorize version"
   ]
  },
  {
   "cell_type": "code",
   "execution_count": null,
   "metadata": {},
   "outputs": [],
   "source": [
    "%time l3_vec = np.dot(l1, l2)"
   ]
  },
  {
   "cell_type": "code",
   "execution_count": null,
   "metadata": {},
   "outputs": [],
   "source": [
    "l3_vec"
   ]
  },
  {
   "cell_type": "code",
   "execution_count": null,
   "metadata": {},
   "outputs": [],
   "source": [
    "%time b3_vec = b1 @ b2"
   ]
  },
  {
   "cell_type": "code",
   "execution_count": null,
   "metadata": {
    "scrolled": true
   },
   "outputs": [],
   "source": [
    "b3_vec"
   ]
  },
  {
   "cell_type": "code",
   "execution_count": null,
   "metadata": {},
   "outputs": [],
   "source": [
    "%time l3 = np.dot(l1, l2)"
   ]
  },
  {
   "cell_type": "code",
   "execution_count": null,
   "metadata": {},
   "outputs": [],
   "source": [
    "%time b3 = np.dot(b1, b2)"
   ]
  },
  {
   "cell_type": "code",
   "execution_count": null,
   "metadata": {},
   "outputs": [],
   "source": [
    "%time b3_vec = np.dot(b1, b2)"
   ]
  },
  {
   "cell_type": "markdown",
   "metadata": {},
   "source": [
    "## Functions on tensors"
   ]
  },
  {
   "cell_type": "markdown",
   "metadata": {},
   "source": [
    "We can define function $f:A \\to B$ where $A, B \\in \\mathbb{R}^{n1 \\times n2 \\dots \\times n_{k}}$ where function is defined elementwise $B_{i, j} = f(A_{i, j})$"
   ]
  },
  {
   "cell_type": "markdown",
   "metadata": {},
   "source": [
    "For instance function $f(x) = x + 5$ on matrix $A \\in \\mathbb{R}^{n \\times m}$ will give us $A + 5$"
   ]
  },
  {
   "cell_type": "code",
   "execution_count": null,
   "metadata": {},
   "outputs": [],
   "source": [
    "mt = np.array([[1, 2], [-1, -2], [0., 4.]])\n",
    "f = lambda x: x + 5\n",
    "print(mt) \n",
    "print(f(mt))\n",
    "print(mt + 5)"
   ]
  },
  {
   "cell_type": "code",
   "execution_count": null,
   "metadata": {},
   "outputs": [],
   "source": [
    "import math"
   ]
  },
  {
   "cell_type": "code",
   "execution_count": null,
   "metadata": {},
   "outputs": [],
   "source": [
    "f = lambda x: x**2"
   ]
  },
  {
   "cell_type": "code",
   "execution_count": null,
   "metadata": {},
   "outputs": [],
   "source": [
    "f(-1)"
   ]
  },
  {
   "cell_type": "code",
   "execution_count": null,
   "metadata": {},
   "outputs": [],
   "source": [
    "x = np.linspace(-5, 5, 1000)"
   ]
  },
  {
   "cell_type": "code",
   "execution_count": null,
   "metadata": {},
   "outputs": [],
   "source": [
    "x"
   ]
  },
  {
   "cell_type": "code",
   "execution_count": null,
   "metadata": {},
   "outputs": [],
   "source": [
    "fv = f #np.vectorize(f)"
   ]
  },
  {
   "cell_type": "code",
   "execution_count": null,
   "metadata": {},
   "outputs": [],
   "source": [
    "fx = fv(x)"
   ]
  },
  {
   "cell_type": "code",
   "execution_count": null,
   "metadata": {},
   "outputs": [],
   "source": [
    "x.shape, fx.shape"
   ]
  },
  {
   "cell_type": "code",
   "execution_count": null,
   "metadata": {},
   "outputs": [],
   "source": [
    "import matplotlib.pyplot as plt"
   ]
  },
  {
   "cell_type": "code",
   "execution_count": null,
   "metadata": {},
   "outputs": [],
   "source": [
    "plt.plot(x, fx)"
   ]
  },
  {
   "cell_type": "code",
   "execution_count": null,
   "metadata": {},
   "outputs": [],
   "source": [
    "sig = np.vectorize(lambda x: 1 / (1 + math.exp(-x)))"
   ]
  },
  {
   "cell_type": "code",
   "execution_count": null,
   "metadata": {},
   "outputs": [],
   "source": [
    "plt.plot(x, sig(x))"
   ]
  },
  {
   "cell_type": "code",
   "execution_count": null,
   "metadata": {},
   "outputs": [],
   "source": [
    "plt.plot(x, sig(x))\n",
    "plt.grid()"
   ]
  },
  {
   "cell_type": "markdown",
   "metadata": {},
   "source": [
    "## Images as tensors and matrices"
   ]
  },
  {
   "cell_type": "code",
   "execution_count": null,
   "metadata": {},
   "outputs": [],
   "source": [
    "import cv2"
   ]
  },
  {
   "cell_type": "code",
   "execution_count": null,
   "metadata": {},
   "outputs": [],
   "source": [
    "! pip install opencv-python"
   ]
  },
  {
   "cell_type": "code",
   "execution_count": null,
   "metadata": {},
   "outputs": [],
   "source": [
    "from pathlib import Path"
   ]
  },
  {
   "cell_type": "code",
   "execution_count": null,
   "metadata": {},
   "outputs": [],
   "source": [
    "path = Path('images')"
   ]
  },
  {
   "cell_type": "code",
   "execution_count": null,
   "metadata": {},
   "outputs": [],
   "source": [
    "ls = ! ls {path}\n",
    "la1 = path / ls[0]"
   ]
  },
  {
   "cell_type": "code",
   "execution_count": null,
   "metadata": {},
   "outputs": [],
   "source": [
    "ls"
   ]
  },
  {
   "cell_type": "code",
   "execution_count": null,
   "metadata": {},
   "outputs": [],
   "source": [
    "img_brg = cv2.imread(str(la1 / 'tbilisi1.jpg'), cv2.IMREAD_ANYCOLOR)"
   ]
  },
  {
   "cell_type": "code",
   "execution_count": null,
   "metadata": {},
   "outputs": [],
   "source": [
    "type(img_brg), img_brg.shape"
   ]
  },
  {
   "cell_type": "code",
   "execution_count": null,
   "metadata": {
    "scrolled": true
   },
   "outputs": [],
   "source": [
    "plt.figure(figsize=(50, 50))\n",
    "plt.imshow(img_brg, cmap=None)\n",
    "plt.show()"
   ]
  },
  {
   "cell_type": "code",
   "execution_count": null,
   "metadata": {},
   "outputs": [],
   "source": [
    "img = cv2.cvtColor(img_brg, cv2.COLOR_RGB2BGR)"
   ]
  },
  {
   "cell_type": "code",
   "execution_count": null,
   "metadata": {},
   "outputs": [],
   "source": [
    "import matplotlib.pyplot as plt"
   ]
  },
  {
   "cell_type": "code",
   "execution_count": null,
   "metadata": {},
   "outputs": [],
   "source": [
    "def show_img(im, figsize=(50, 50), cmap=None):\n",
    "    plt.figure(figsize=figsize)\n",
    "    plt.imshow(im, cmap=cmap)\n",
    "    plt.show()"
   ]
  },
  {
   "cell_type": "code",
   "execution_count": null,
   "metadata": {},
   "outputs": [],
   "source": [
    "show_img(img)"
   ]
  },
  {
   "cell_type": "code",
   "execution_count": null,
   "metadata": {},
   "outputs": [],
   "source": [
    "gray = cv2.cvtColor(img, cv2.COLOR_RGB2GRAY)"
   ]
  },
  {
   "cell_type": "code",
   "execution_count": null,
   "metadata": {
    "scrolled": true
   },
   "outputs": [],
   "source": [
    "show_img(gray, cmap='gray')"
   ]
  },
  {
   "cell_type": "code",
   "execution_count": null,
   "metadata": {},
   "outputs": [],
   "source": [
    "gray_t = gray.T"
   ]
  },
  {
   "cell_type": "code",
   "execution_count": null,
   "metadata": {
    "scrolled": true
   },
   "outputs": [],
   "source": [
    "gray_t.shape\n",
    "show_img(gray_t, cmap='gray')"
   ]
  },
  {
   "cell_type": "code",
   "execution_count": null,
   "metadata": {
    "scrolled": true
   },
   "outputs": [],
   "source": [
    "show_img(gray - 100, cmap='gray')"
   ]
  },
  {
   "cell_type": "markdown",
   "metadata": {},
   "source": [
    "## Example 1"
   ]
  },
  {
   "cell_type": "code",
   "execution_count": null,
   "metadata": {},
   "outputs": [],
   "source": [
    "X = np.random.rand(10)\n",
    "A = np.random.rand(10)\n",
    "b = np.random.rand(1)"
   ]
  },
  {
   "cell_type": "code",
   "execution_count": null,
   "metadata": {},
   "outputs": [],
   "source": [
    "A @ X + b"
   ]
  },
  {
   "cell_type": "code",
   "execution_count": null,
   "metadata": {},
   "outputs": [],
   "source": [
    "sig(A @ X + b)"
   ]
  },
  {
   "cell_type": "markdown",
   "metadata": {},
   "source": [
    "## Example 2"
   ]
  },
  {
   "cell_type": "code",
   "execution_count": null,
   "metadata": {},
   "outputs": [],
   "source": [
    "W = np.array([20, 20]) # Weights\n",
    "b = np.array([-30]) # bias"
   ]
  },
  {
   "cell_type": "code",
   "execution_count": null,
   "metadata": {},
   "outputs": [],
   "source": [
    "X = np.array([1, 0])"
   ]
  },
  {
   "cell_type": "code",
   "execution_count": null,
   "metadata": {},
   "outputs": [],
   "source": [
    "d = sig(W2 @ sig(W1.T @ X1 + b1) + b2)"
   ]
  },
  {
   "cell_type": "code",
   "execution_count": null,
   "metadata": {},
   "outputs": [],
   "source": [
    "np.around(d, decimals=1)"
   ]
  },
  {
   "cell_type": "code",
   "execution_count": null,
   "metadata": {},
   "outputs": [],
   "source": [
    "ff = lambda _X, _W, _b: sig(np.dot(_W.T, _X) + _b)"
   ]
  },
  {
   "cell_type": "code",
   "execution_count": null,
   "metadata": {},
   "outputs": [],
   "source": [
    "BA = [[0, 0], [0, 1], [1, 0], [1, 1]]"
   ]
  },
  {
   "cell_type": "code",
   "execution_count": null,
   "metadata": {},
   "outputs": [],
   "source": [
    "for ba in BA:\n",
    "    print(ba, np.around(ff(ba, W, b), decimals=1))"
   ]
  },
  {
   "cell_type": "markdown",
   "metadata": {},
   "source": [
    "Change bias"
   ]
  },
  {
   "cell_type": "code",
   "execution_count": null,
   "metadata": {},
   "outputs": [],
   "source": [
    "b = np.array([-10])"
   ]
  },
  {
   "cell_type": "code",
   "execution_count": null,
   "metadata": {},
   "outputs": [],
   "source": [
    "for ba in BA:\n",
    "    print(ba, np.around(ff(ba, W, b), decimals=1))"
   ]
  },
  {
   "cell_type": "markdown",
   "metadata": {},
   "source": [
    "Write combination for $XOR$ calculation"
   ]
  },
  {
   "cell_type": "code",
   "execution_count": null,
   "metadata": {},
   "outputs": [],
   "source": []
  }
 ],
 "metadata": {
  "kernelspec": {
   "display_name": "Python 3",
   "language": "python",
   "name": "python3"
  },
  "language_info": {
   "codemirror_mode": {
    "name": "ipython",
    "version": 3
   },
   "file_extension": ".py",
   "mimetype": "text/x-python",
   "name": "python",
   "nbconvert_exporter": "python",
   "pygments_lexer": "ipython3",
   "version": "3.7.4"
  }
 },
 "nbformat": 4,
 "nbformat_minor": 2
}
