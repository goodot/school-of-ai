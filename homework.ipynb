{
 "cells": [
  {
   "cell_type": "markdown",
   "metadata": {},
   "source": [
    "# #1\n",
    "Prove that $A \\subseteq A$"
   ]
  },
  {
   "cell_type": "markdown",
   "metadata": {},
   "source": [
    "\n",
    "\n",
    "$\\forall a : (a \\in A \\Rightarrow a \\in A) \\Rightarrow A \\subseteq A$ \n"
   ]
  },
  {
   "cell_type": "markdown",
   "metadata": {},
   "source": [
    "# #2\n",
    "Prove that if $B \\subset A$ then $A \\cap B = B$"
   ]
  },
  {
   "cell_type": "markdown",
   "metadata": {},
   "source": [
    "\n",
    " # 1.\n",
    " \n",
    "$ B \\subset A  \\implies A \\cap B = B $\n",
    " \n",
    "assume $ B \\subset A$ and prove that $ A \\cap B \\subset B. $\n",
    "\n",
    "$ \\forall : (x \\in A \\cap B \\implies x \\in A $ and $ x \\in B) \\implies A \\cap B \\subset A $\n",
    "\n",
    "now assume $B \\subset A \\cap B$\n",
    "\n",
    "$\\forall x : (x \\in B \\implies x \\in A $ and $ x \\in B)$\n",
    "\n",
    "both inclusions give $ B = A \\cap B$\n",
    "\n",
    "# 2.\n",
    "Assume $A \\cap B = B $ and prove $ B \\subset A$\n",
    "\n",
    "$ \\forall x : (x \\in B \\implies x \\in A \\cap B) $ (by assumtion). So $x \\in A ) \\implies B \\subset A)$"
   ]
  },
  {
   "cell_type": "markdown",
   "metadata": {},
   "source": [
    "# #3\n",
    "Prove that $A \\cap B = B \\cap A$"
   ]
  },
  {
   "cell_type": "markdown",
   "metadata": {},
   "source": [
    "\n",
    "\n",
    "$ \\forall x: (x \\in A \\cap B \\implies x \\in A, x \\in B => x \\in B \\cap A) \\implies A \\cap B = B \\cap A$\n",
    "\n",
    "\n"
   ]
  }
 ],
 "metadata": {
  "kernelspec": {
   "display_name": "Python 3",
   "language": "python",
   "name": "python3"
  },
  "language_info": {
   "codemirror_mode": {
    "name": "ipython",
    "version": 3
   },
   "file_extension": ".py",
   "mimetype": "text/x-python",
   "name": "python",
   "nbconvert_exporter": "python",
   "pygments_lexer": "ipython3",
   "version": "3.7.4"
  }
 },
 "nbformat": 4,
 "nbformat_minor": 2
}
