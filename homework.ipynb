{
 "cells": [
  {
   "cell_type": "markdown",
   "metadata": {},
   "source": [
    "# #1\n",
    "Prove that $A \\subseteq A$"
   ]
  },
  {
   "cell_type": "markdown",
   "metadata": {},
   "source": [
    "\n",
    "\n",
    "$\\forall a : (a \\in A \\Rightarrow a \\in A) \\Rightarrow A \\subseteq A$ \n"
   ]
  },
  {
   "cell_type": "markdown",
   "metadata": {},
   "source": [
    "# #2\n",
    "Prove that if $B \\subset A$ then $A \\cap B = B$"
   ]
  },
  {
   "cell_type": "markdown",
   "metadata": {},
   "source": [
    "\n",
    "# *\n",
    " \n",
    "$ B \\subset A  \\implies A \\cap B = B $\n",
    " \n",
    "assume $ B \\subset A$ and prove that $ A \\cap B \\subset B. $\n",
    "\n",
    "$ \\forall : (x \\in A \\cap B \\implies x \\in A $ and $ x \\in B) \\implies A \\cap B \\subset A $\n",
    "\n",
    "now assume $B \\subset A \\cap B$\n",
    "\n",
    "$\\forall x : (x \\in B \\implies x \\in A $ and $ x \\in B)$\n",
    "\n",
    "both inclusions give $ B = A \\cap B$\n",
    "\n",
    "# **\n",
    "\n",
    "Assume $A \\cap B = B $ and prove $ B \\subset A$\n",
    "\n",
    "$ \\forall x : (x \\in B \\implies x \\in A \\cap B) $ (by assumtion). So $x \\in A ) \\implies B \\subset A)$"
   ]
  },
  {
   "cell_type": "markdown",
   "metadata": {},
   "source": [
    "# #3\n",
    "Prove that $A \\cap B = B \\cap A$"
   ]
  },
  {
   "cell_type": "markdown",
   "metadata": {},
   "source": [
    "\n",
    "\n",
    "$ \\forall x: (x \\in A \\cap B \\implies x \\in A, x \\in B => x \\in B \\cap A) \\implies A \\cap B = B \\cap A$\n",
    "\n",
    "\n"
   ]
  },
  {
   "cell_type": "markdown",
   "metadata": {},
   "source": [
    "# #4\n",
    "Prove that if $B \\subset A$ then $A \\cup B = A$"
   ]
  },
  {
   "cell_type": "markdown",
   "metadata": {},
   "source": [
    "If $B \\subset A \\implies \\forall x : (x \\in B \\implies x \\in A) \\implies x \\in A \\cup B$"
   ]
  },
  {
   "cell_type": "markdown",
   "metadata": {},
   "source": [
    "# #5\n",
    "Prove that $A \\cap B = B \\cap A$ that $A \\cup B = B \\cup A$"
   ]
  },
  {
   "cell_type": "markdown",
   "metadata": {},
   "source": [
    "\n",
    "$\\forall x : (x \\in A \\cap B \\implies x \\in A, x \\in B \\implies x \\in A \\cup B, x \\in B \\cup A$"
   ]
  },
  {
   "cell_type": "markdown",
   "metadata": {},
   "source": [
    "# #6"
   ]
  },
  {
   "cell_type": "code",
   "execution_count": 2,
   "metadata": {},
   "outputs": [
    {
     "data": {
      "text/plain": [
       "(set, set, set, {1, 2, 3, 4})"
      ]
     },
     "execution_count": 2,
     "metadata": {},
     "output_type": "execute_result"
    }
   ],
   "source": [
    "S = set([2, 4])\n",
    "A = {1, 2, 3, 4, 4}\n",
    "B = {2, 4}\n",
    "C = {1, 2, 18, 28}\n",
    "type(S), type(A), type(B), A"
   ]
  },
  {
   "cell_type": "code",
   "execution_count": 7,
   "metadata": {},
   "outputs": [
    {
     "name": "stdout",
     "output_type": "stream",
     "text": [
      "AxB={(1, 2), (3, 2), (4, 4), (1, 4), (2, 2), (4, 2), (3, 4), (2, 4)}\n",
      "AxBxC={(4, 2, 2), (4, 4, 1), (1, 4, 18), (1, 2, 28), (4, 2, 18), (3, 4, 1), (1, 4, 2), (2, 4, 1), (3, 4, 2), (2, 4, 18), (4, 2, 28), (3, 2, 28), (4, 4, 28), (1, 4, 1), (3, 4, 18), (2, 4, 2), (3, 2, 2), (1, 2, 18), (3, 4, 28), (1, 4, 28), (1, 2, 1), (3, 2, 18), (2, 2, 28), (3, 2, 1), (1, 2, 2), (2, 2, 18), (2, 2, 2), (2, 2, 1), (4, 4, 18), (4, 2, 1), (2, 4, 28), (4, 4, 2)}\n",
      "32 32\n"
     ]
    }
   ],
   "source": [
    "AxB = {(a, b) for a in A for b in B}\n",
    "AxBxC = {(a, b, c) for a in A for b in B for c in C}\n",
    "print('AxB={}'.format(AxB))\n",
    "print('AxBxC={}'.format(AxBxC))"
   ]
  },
  {
   "cell_type": "markdown",
   "metadata": {},
   "source": [
    "# #7\n"
   ]
  },
  {
   "cell_type": "code",
   "execution_count": 9,
   "metadata": {},
   "outputs": [
    {
     "name": "stdout",
     "output_type": "stream",
     "text": [
      "delta={(1, 2), (3, 2), (1, 3), (4, 1), (3, 3), (3, 1), (4, 4), (2, 1), (1, 4), (2, 4), (2, 3), (4, 3), (2, 2), (4, 2), (3, 4), (1, 1)}\n"
     ]
    }
   ],
   "source": [
    "delta = {(a,b) for a in A for b in A}\n",
    "print('delta={}'.format(delta))"
   ]
  }
 ],
 "metadata": {
  "kernelspec": {
   "display_name": "Python 3",
   "language": "python",
   "name": "python3"
  },
  "language_info": {
   "codemirror_mode": {
    "name": "ipython",
    "version": 3
   },
   "file_extension": ".py",
   "mimetype": "text/x-python",
   "name": "python",
   "nbconvert_exporter": "python",
   "pygments_lexer": "ipython3",
   "version": "3.7.4"
  }
 },
 "nbformat": 4,
 "nbformat_minor": 2
}
