{
 "cells": [
  {
   "cell_type": "code",
   "execution_count": null,
   "metadata": {},
   "outputs": [],
   "source": [
    "%load_ext autoreload\n",
    "%autoreload 2\n",
    "\n",
    "%matplotlib inline"
   ]
  },
  {
   "cell_type": "markdown",
   "metadata": {},
   "source": [
    "## Basic setup"
   ]
  },
  {
   "cell_type": "markdown",
   "metadata": {},
   "source": [
    "Create anaconda environment\n",
    "<br>\n",
    "```bash\n",
    "conda create -n ml python=3.7.4 jupyter\n",
    "```\n",
    "Install fastai library\n",
    "<br>\n",
    "```bash\n",
    "conda install -c pytorch -c fastai fastai\n",
    "```"
   ]
  },
  {
   "cell_type": "markdown",
   "metadata": {},
   "source": [
    "# Set theory basics"
   ]
  },
  {
   "cell_type": "markdown",
   "metadata": {},
   "source": [
    "#### Prove that:\n",
    "<br>\n",
    "$A \\subseteq A$"
   ]
  },
  {
   "cell_type": "markdown",
   "metadata": {},
   "source": [
    "$\\forall a : (a \\in A \\Rightarrow a \\in A) \\Rightarrow A \\subseteq A$ "
   ]
  },
  {
   "cell_type": "markdown",
   "metadata": {},
   "source": [
    "#### Prove that:\n",
    "<br>\n",
    "If $A \\subseteq B$ and $B \\subseteq A$ $\\to$ $A = B$"
   ]
  },
  {
   "cell_type": "markdown",
   "metadata": {},
   "source": [
    "#### Prove that:\n",
    "<br>\n",
    "if $B \\subset A$ then $A \\cap B = B$"
   ]
  },
  {
   "cell_type": "markdown",
   "metadata": {},
   "source": [
    " # 1)\n",
    " \n",
    "$ B \\subset A  \\implies A \\cap B = B $\n",
    " \n",
    "assume $ B \\subset A$ and prove that $ A \\cap B \\subset B. $\n",
    "\n",
    "$ \\forall : (x \\in A \\cap B \\implies x \\in A $ and $ x \\in B) \\implies A \\cap B \\subset A $\n",
    "\n",
    "now assume $B \\subset A \\cap B$\n",
    "\n",
    "$\\forall x : (x \\in B \\implies x \\in A $ and $ x \\in B)$\n",
    "\n",
    "both inclusions give $ B = A \\cap B$\n",
    "\n",
    "# 2)\n",
    "Assume $A \\cap B = B $ and prove $ B \\subset A$\n",
    "\n",
    "$ \\forall x : (x \\in B \\implies x \\in A \\cap B) $ (by assumtion). So $x \\in A ) \\implies B \\subset A)$"
   ]
  },
  {
   "cell_type": "markdown",
   "metadata": {},
   "source": [
    "#### Prove that:\n",
    "<br>\n",
    "$A \\cap B = B \\cap A$"
   ]
  },
  {
   "cell_type": "markdown",
   "metadata": {},
   "source": [
    "$ \\forall x: (x \\in A \\cap B \\implies x \\in A, x \\in B => x \\in B \\cap A) \\implies A \\cap B = B \\cap A$\n",
    "\n",
    "\n"
   ]
  },
  {
   "cell_type": "markdown",
   "metadata": {},
   "source": [
    "#### Prove that:\n",
    "<br>\n",
    "if $B \\subset A$ then $A \\cup B = A$"
   ]
  },
  {
   "cell_type": "markdown",
   "metadata": {},
   "source": [
    "If $B \\subset A \\implies \\forall x : (x \\in B \\implies x \\in A) \\implies x \\in A \\cup B$"
   ]
  },
  {
   "cell_type": "markdown",
   "metadata": {},
   "source": [
    "#### Prove that:\n",
    "<br>\n",
    "$A \\cup B = B \\cup A$"
   ]
  },
  {
   "cell_type": "markdown",
   "metadata": {},
   "source": [
    "$\\forall x : ( x \\in A ) \\implies x \\in A \\cup B \\implies x \\in B \\cup A$\n"
   ]
  },
  {
   "cell_type": "markdown",
   "metadata": {},
   "source": [
    "#### Prove that:\n",
    "- for every injection $m:A \\to B$ and pair of functions $f, g :C \\to A$: if $m \\circ f = m \\circ g$ then $f = g$ and vice-versa\n",
    "- for every surjection $e:A \\to B$ and every pair of functions $f, g :B \\to C$: if $f \\circ e = g \\circ e$ then $f = g$ and vice-versa"
   ]
  },
  {
   "cell_type": "markdown",
   "metadata": {},
   "source": [
    "#### Prove that \n",
    "- composition of injections is injection itself\n",
    "- composition of surjections is surjection itself\n",
    "- composition of bijections is bijection itself\n",
    "<br>\n",
    "or give a counterexamples"
   ]
  },
  {
   "cell_type": "markdown",
   "metadata": {},
   "source": [
    "#### Prove that for each set $A$:\n",
    "- $A \\cong A$\n",
    "- if $B \\cong A$ then $B \\cong A$ for every pair of sets $A$ and $B$\n",
    "- if $A \\cong B$ and $B \\cong C$ then $A \\cong C$ for every triplet $A$, $B$ and $C$"
   ]
  },
  {
   "cell_type": "markdown",
   "metadata": {},
   "source": [
    "#### Prove that:\n",
    "<br>\n",
    "there exists a bijection between set of natural and even numbers"
   ]
  },
  {
   "cell_type": "markdown",
   "metadata": {},
   "source": [
    "#### Prove that:\n",
    "<br>\n",
    "if we have a bijection between two finite sets than they have an equal number of elements"
   ]
  },
  {
   "cell_type": "markdown",
   "metadata": {},
   "source": [
    "#### Prove that:\n",
    "<br>\n",
    "$A \\times B \\cong B \\times A$"
   ]
  },
  {
   "cell_type": "markdown",
   "metadata": {},
   "source": [
    "$\\cap_{i\\in I}A_i$ and $\\cup_{i\\in I}A_i$"
   ]
  },
  {
   "cell_type": "code",
   "execution_count": 20,
   "metadata": {},
   "outputs": [
    {
     "name": "stdout",
     "output_type": "stream",
     "text": [
      "sets=[{1, 4, 7}, {1, 6, 7, 8, 9}, {1, 10, 21, 7}]\n",
      "union={1, 4, 6, 7, 8, 9, 10, 21}\n",
      "intersection={1, 7}\n"
     ]
    }
   ],
   "source": [
    "sets = [{1, 7 , 4}, {1, 6,7,8,8,9}, {1, 7, 10, 21}]\n",
    "union = set.union(*sets)\n",
    "intersection = set.intersection(*sets)\n",
    "print('sets={}'.format(sets))\n",
    "print('union={}'.format(union))\n",
    "print('intersection={}'.format(intersection))"
   ]
  },
  {
   "cell_type": "markdown",
   "metadata": {},
   "source": [
    "We can also define cartesian product of any \"number\" of sets $\\prod_{i \\in I}{A_i}$"
   ]
  },
  {
   "cell_type": "code",
   "execution_count": 21,
   "metadata": {},
   "outputs": [
    {
     "name": "stdout",
     "output_type": "stream",
     "text": [
      "prod=[(1, 1, 1), (1, 1, 10), (1, 1, 21), (1, 1, 7), (1, 6, 1), (1, 6, 10), (1, 6, 21), (1, 6, 7), (1, 7, 1), (1, 7, 10), (1, 7, 21), (1, 7, 7), (1, 8, 1), (1, 8, 10), (1, 8, 21), (1, 8, 7), (1, 9, 1), (1, 9, 10), (1, 9, 21), (1, 9, 7), (4, 1, 1), (4, 1, 10), (4, 1, 21), (4, 1, 7), (4, 6, 1), (4, 6, 10), (4, 6, 21), (4, 6, 7), (4, 7, 1), (4, 7, 10), (4, 7, 21), (4, 7, 7), (4, 8, 1), (4, 8, 10), (4, 8, 21), (4, 8, 7), (4, 9, 1), (4, 9, 10), (4, 9, 21), (4, 9, 7), (7, 1, 1), (7, 1, 10), (7, 1, 21), (7, 1, 7), (7, 6, 1), (7, 6, 10), (7, 6, 21), (7, 6, 7), (7, 7, 1), (7, 7, 10), (7, 7, 21), (7, 7, 7), (7, 8, 1), (7, 8, 10), (7, 8, 21), (7, 8, 7), (7, 9, 1), (7, 9, 10), (7, 9, 21), (7, 9, 7)]\n"
     ]
    }
   ],
   "source": [
    "from itertools import product\n",
    "\n",
    "prod = [p for p in product(*sets)]\n",
    "print('prod={}'.format(prod))"
   ]
  },
  {
   "cell_type": "markdown",
   "metadata": {},
   "source": [
    "#### Prove that:\n",
    "<br>\n",
    "$$A \\cap (B \\cup C)=(A \\cap B) \\cup (A\\cap C)$$\n",
    "\n",
    "proof:\n",
    "\n",
    "\n",
    "$ \\forall x: ( x \\in A \\cap (B \\cup C) \\implies x \\in A, x \\in B \\cup C \\implies x \\in B$ or $x \\in C $\n",
    "\n",
    "$\\implies x \\in B$ or $ x \\in C \\implies x \\in A \\cap B $ or $ x \\in A \\cap C $\n",
    "\n",
    "$\\implies x \\in (A \\cap B) \\cup (A \\cap C)$\n",
    "\n",
    "$$A \\cup (B \\cap C)=(A \\cup B) \\cap (A\\cup C)$$\n",
    "\n",
    "\n",
    "$\\forall x: (x \\in A \\cup B \\cap C \\implies x \\in A $ or $ (x \\in B $ and $ x \\in C) $\n",
    "\n",
    "$ \\implies x \\in A \\cup B$ and $ x \\in A \\cup C $\n",
    "\n",
    "$ \\implies x \\in (A \\cup B) \\cap (A \\cup C)$"
   ]
  },
  {
   "cell_type": "markdown",
   "metadata": {},
   "source": [
    "# Linear Algebra"
   ]
  },
  {
   "cell_type": "markdown",
   "metadata": {},
   "source": [
    "#### Prove that:\n",
    "<br>\n",
    "$(AB)^{T} = B^{T}A^{T}$ for each pair of matrices $A, B \\in \\mathbb{R}^{n \\times m}$\n",
    "\n",
    "\n",
    "$(AB)_{ij} = \\sum_{k=1}^n a_{ik} b_{kj}$\n",
    "\n",
    "$[(AB)_{ij}]^T = \\sum_{k=1}^n a_{jk}b_{ki}$\n",
    "\n",
    "$(BA)_{ij} = \\sum_{k=1}^n b_{ik}a_{ki}$\n",
    "\n",
    "$B^{T}A^{T} = (B_{ik})^{T}(A_{kj})^{T} = \\sum_{k=1}^n b_{ki}a_{jk} = \\sum_{k=1}^n a_{jk}b_{ki}$"
   ]
  },
  {
   "cell_type": "markdown",
   "metadata": {},
   "source": [
    "## Functions on tensors"
   ]
  },
  {
   "cell_type": "markdown",
   "metadata": {},
   "source": [
    "#### Write combination for $XOR$ calculation"
   ]
  },
  {
   "cell_type": "code",
   "execution_count": 1,
   "metadata": {},
   "outputs": [],
   "source": [
    "BA = [[0., 0.], [0., 1.], [1., 0.], [1., 1.]]"
   ]
  },
  {
   "cell_type": "code",
   "execution_count": 2,
   "metadata": {},
   "outputs": [],
   "source": [
    "import torch\n",
    "from torch.autograd import Variable\n",
    "import torch.nn as nn\n",
    "import torch.optim as optim\n",
    "import numpy as np\n",
    "\n",
    "\n",
    "EPOCHS = 10000\n",
    "\n",
    "class Model(nn.Module):\n",
    "    def __init__(self):\n",
    "        super(Model, self).__init__()\n",
    "        self.fc1 = nn.Linear(2,3, True)\n",
    "        self.fc2 =nn.Linear(3,1, True)\n",
    "        \n",
    "    \n",
    "    def forward(self,x):\n",
    "        x = torch.sigmoid(self.fc1(x))\n",
    "        x = self.fc2(x)\n",
    "        return x\n",
    "    \n",
    "    \n",
    "\n",
    "    "
   ]
  },
  {
   "cell_type": "code",
   "execution_count": 3,
   "metadata": {
    "scrolled": true
   },
   "outputs": [
    {
     "name": "stdout",
     "output_type": "stream",
     "text": [
      "inputs=tensor([[0., 0.],\n",
      "        [0., 1.],\n",
      "        [1., 0.],\n",
      "        [1., 1.]])\n",
      "targets=tensor([[0.],\n",
      "        [1.],\n",
      "        [1.],\n",
      "        [0.]])\n"
     ]
    }
   ],
   "source": [
    "model = Model()\n",
    "\n",
    "inputs = torch.tensor(BA)\n",
    "targets = torch.tensor([[0.], [1.], [1.], [0.]])\n",
    "\n",
    "print('inputs={}'.format(inputs))\n",
    "print('targets={}'.format(targets))\n",
    "\n",
    "criterion = nn.MSELoss()\n",
    "optimizer = optim.SGD(model.parameters(), lr=0.01)\n",
    "\n",
    "\n",
    "for i in range(EPOCHS):\n",
    "    for input, target in zip(inputs, targets):\n",
    "        optimizer.zero_grad()\n",
    "        output = model(input)\n",
    "        loss = criterion(output, target)\n",
    "        loss.backward()\n",
    "        optimizer.step()\n",
    "    \n",
    "    "
   ]
  },
  {
   "cell_type": "code",
   "execution_count": 4,
   "metadata": {},
   "outputs": [],
   "source": [
    "out = model(inputs)"
   ]
  },
  {
   "cell_type": "code",
   "execution_count": 11,
   "metadata": {},
   "outputs": [
    {
     "name": "stdout",
     "output_type": "stream",
     "text": [
      "input=[[0. 0.]\n",
      " [0. 1.]\n",
      " [1. 0.]\n",
      " [1. 1.]]\n",
      "output=[[0.]\n",
      " [1.]\n",
      " [1.]\n",
      " [0.]]\n"
     ]
    }
   ],
   "source": [
    "print('input={}'.format(inputs.detach().numpy()))\n",
    "print('output={}'.format(np.round(out.detach().numpy())))\n"
   ]
  }
 ],
 "metadata": {
  "kernelspec": {
   "display_name": "Python 3",
   "language": "python",
   "name": "python3"
  },
  "language_info": {
   "codemirror_mode": {
    "name": "ipython",
    "version": 3
   },
   "file_extension": ".py",
   "mimetype": "text/x-python",
   "name": "python",
   "nbconvert_exporter": "python",
   "pygments_lexer": "ipython3",
   "version": "3.7.4"
  }
 },
 "nbformat": 4,
 "nbformat_minor": 4
}
