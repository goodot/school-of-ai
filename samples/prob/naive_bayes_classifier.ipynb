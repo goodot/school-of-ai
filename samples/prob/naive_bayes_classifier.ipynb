{
 "cells": [
  {
   "cell_type": "markdown",
   "metadata": {},
   "source": [
    "# Naive Bayes On The Iris Dataset"
   ]
  },
  {
   "cell_type": "code",
   "execution_count": 1,
   "metadata": {},
   "outputs": [],
   "source": [
    "from csv import reader\n",
    "from math import sqrt\n",
    "from math import exp\n",
    "from math import pi\n",
    "import pandas as pd\n",
    "from sklearn.metrics import confusion_matrix, precision_recall_curve, precision_score, recall_score, f1_score\n",
    "import matplotlib.pyplot as plt\n",
    "import seaborn as sns"
   ]
  },
  {
   "cell_type": "markdown",
   "metadata": {},
   "source": [
    "## Split the dataset by class values, returns a dictionary"
   ]
  },
  {
   "cell_type": "code",
   "execution_count": 2,
   "metadata": {},
   "outputs": [],
   "source": [
    "def separate_by_class(dataset):\n",
    "    separated = dict()\n",
    "    for i in range(len(dataset)):\n",
    "        vector = dataset[i]\n",
    "        class_value = vector[-1]\n",
    "        if (class_value not in separated):\n",
    "            separated[class_value] = list()\n",
    "        separated[class_value].append(vector)\n",
    "    return separated"
   ]
  },
  {
   "cell_type": "markdown",
   "metadata": {},
   "source": [
    "## Calculate the mean of a list of numbers"
   ]
  },
  {
   "cell_type": "code",
   "execution_count": 3,
   "metadata": {},
   "outputs": [],
   "source": [
    "def mean(numbers):\n",
    "    return sum(numbers)/float(len(numbers))"
   ]
  },
  {
   "cell_type": "markdown",
   "metadata": {},
   "source": [
    "## Calculate the standard deviation of a list of numbers"
   ]
  },
  {
   "cell_type": "code",
   "execution_count": 7,
   "metadata": {},
   "outputs": [],
   "source": [
    "def stdev(numbers):\n",
    "    avg = mean(numbers)\n",
    "    variance = sum([(x-avg)**2 for x in numbers]) / float(len(numbers)-1)\n",
    "    return sqrt(variance)"
   ]
  },
  {
   "cell_type": "markdown",
   "metadata": {},
   "source": [
    "## Calculate the mean, stdev and count for each column in a dataset"
   ]
  },
  {
   "cell_type": "code",
   "execution_count": 8,
   "metadata": {},
   "outputs": [],
   "source": [
    "def summarize_dataset(dataset):\n",
    "    summaries = [(mean(column), stdev(column), len(column)) for column in zip(*dataset)]\n",
    "    del(summaries[-1])\n",
    "    return summaries"
   ]
  },
  {
   "cell_type": "markdown",
   "metadata": {},
   "source": [
    "## Split dataset by class then calculate statistics for each row"
   ]
  },
  {
   "cell_type": "code",
   "execution_count": 9,
   "metadata": {},
   "outputs": [],
   "source": [
    "def summarize_by_class(dataset):\n",
    "    separated = separate_by_class(dataset)\n",
    "    summaries = dict()\n",
    "    for class_value, rows in separated.items():\n",
    "        summaries[class_value] = summarize_dataset(rows)\n",
    "    return summaries"
   ]
  },
  {
   "cell_type": "markdown",
   "metadata": {},
   "source": [
    "## Calculate the Gaussian probability distribution function for x"
   ]
  },
  {
   "cell_type": "code",
   "execution_count": 10,
   "metadata": {},
   "outputs": [],
   "source": [
    "def calculate_probability(x, mean, stdev):\n",
    "    exponent = exp(-((x-mean)**2 / (2 * stdev**2 )))\n",
    "    return (1 / (sqrt(2 * pi) * stdev)) * exponent"
   ]
  },
  {
   "cell_type": "markdown",
   "metadata": {},
   "source": [
    "## Calculate the probabilities of predicting each class for a given row"
   ]
  },
  {
   "cell_type": "code",
   "execution_count": 11,
   "metadata": {},
   "outputs": [],
   "source": [
    "def calculate_class_probabilities(summaries, row):\n",
    "    total_rows = sum([summaries[label][0][2] for label in summaries])\n",
    "    probabilities = dict()\n",
    "    for class_value, class_summaries in summaries.items():\n",
    "        probabilities[class_value] = summaries[class_value][0][2]/float(total_rows)\n",
    "        for i in range(len(class_summaries)):\n",
    "            mean, stdev, _ = class_summaries[i]\n",
    "            probabilities[class_value] *= calculate_probability(row[i], mean, stdev)\n",
    "    return probabilities"
   ]
  },
  {
   "cell_type": "markdown",
   "metadata": {},
   "source": [
    "## Predict the class for a given row"
   ]
  },
  {
   "cell_type": "code",
   "execution_count": 13,
   "metadata": {},
   "outputs": [],
   "source": [
    "def predict(summaries, row):\n",
    "    probabilities = calculate_class_probabilities(summaries, row)\n",
    "    best_label, best_prob = None, -1\n",
    "    for class_value, probability in probabilities.items():\n",
    "        if best_label is None or probability > best_prob:\n",
    "            best_prob = probability\n",
    "            best_label = class_value\n",
    "    return best_label"
   ]
  },
  {
   "cell_type": "markdown",
   "metadata": {},
   "source": [
    "# Make a prediction with Naive Bayes Classifier Model on Iris Dataset"
   ]
  },
  {
   "cell_type": "markdown",
   "metadata": {},
   "source": [
    "## load dataset"
   ]
  },
  {
   "cell_type": "code",
   "execution_count": 14,
   "metadata": {},
   "outputs": [],
   "source": [
    "filename = '../../images/prob/iris.csv'   \n",
    "dataset = pd.read_csv(filename)"
   ]
  },
  {
   "cell_type": "code",
   "execution_count": 53,
   "metadata": {},
   "outputs": [
    {
     "name": "stdout",
     "output_type": "stream",
     "text": [
      "[[5.1 3.5 1.4 0.2 1. ]\n",
      " [4.9 3.  1.4 0.2 1. ]\n",
      " [4.7 3.2 1.3 0.2 1. ]\n",
      " [4.6 3.1 1.5 0.2 1. ]\n",
      " [5.  3.6 1.4 0.2 1. ]\n",
      " [5.4 3.9 1.7 0.4 1. ]\n",
      " [4.6 3.4 1.4 0.3 1. ]\n",
      " [5.  3.4 1.5 0.2 1. ]\n",
      " [4.4 2.9 1.4 0.2 1. ]\n",
      " [4.9 3.1 1.5 0.1 1. ]\n",
      " [5.4 3.7 1.5 0.2 1. ]\n",
      " [4.8 3.4 1.6 0.2 1. ]\n",
      " [4.8 3.  1.4 0.1 1. ]\n",
      " [4.3 3.  1.1 0.1 1. ]\n",
      " [5.8 4.  1.2 0.2 1. ]\n",
      " [5.7 4.4 1.5 0.4 1. ]\n",
      " [5.4 3.9 1.3 0.4 1. ]\n",
      " [5.1 3.5 1.4 0.3 1. ]\n",
      " [5.7 3.8 1.7 0.3 1. ]\n",
      " [5.1 3.8 1.5 0.3 1. ]\n",
      " [5.4 3.4 1.7 0.2 1. ]\n",
      " [5.1 3.7 1.5 0.4 1. ]\n",
      " [4.6 3.6 1.  0.2 1. ]\n",
      " [5.1 3.3 1.7 0.5 1. ]\n",
      " [4.8 3.4 1.9 0.2 1. ]\n",
      " [5.  3.  1.6 0.2 1. ]\n",
      " [5.  3.4 1.6 0.4 1. ]\n",
      " [5.2 3.5 1.5 0.2 1. ]\n",
      " [5.2 3.4 1.4 0.2 1. ]\n",
      " [4.7 3.2 1.6 0.2 1. ]\n",
      " [4.8 3.1 1.6 0.2 1. ]\n",
      " [5.4 3.4 1.5 0.4 1. ]\n",
      " [5.2 4.1 1.5 0.1 1. ]\n",
      " [5.5 4.2 1.4 0.2 1. ]\n",
      " [4.9 3.1 1.5 0.2 1. ]\n",
      " [5.  3.2 1.2 0.2 1. ]\n",
      " [5.5 3.5 1.3 0.2 1. ]\n",
      " [4.9 3.6 1.4 0.1 1. ]\n",
      " [4.4 3.  1.3 0.2 1. ]\n",
      " [5.1 3.4 1.5 0.2 1. ]\n",
      " [5.  3.5 1.3 0.3 1. ]\n",
      " [4.5 2.3 1.3 0.3 1. ]\n",
      " [4.4 3.2 1.3 0.2 1. ]\n",
      " [5.  3.5 1.6 0.6 1. ]\n",
      " [5.1 3.8 1.9 0.4 1. ]\n",
      " [4.8 3.  1.4 0.3 1. ]\n",
      " [5.1 3.8 1.6 0.2 1. ]\n",
      " [4.6 3.2 1.4 0.2 1. ]\n",
      " [5.3 3.7 1.5 0.2 1. ]\n",
      " [5.  3.3 1.4 0.2 1. ]\n",
      " [7.  3.2 4.7 1.4 2. ]\n",
      " [6.4 3.2 4.5 1.5 2. ]\n",
      " [6.9 3.1 4.9 1.5 2. ]\n",
      " [5.5 2.3 4.  1.3 2. ]\n",
      " [6.5 2.8 4.6 1.5 2. ]\n",
      " [5.7 2.8 4.5 1.3 2. ]\n",
      " [6.3 3.3 4.7 1.6 2. ]\n",
      " [4.9 2.4 3.3 1.  2. ]\n",
      " [6.6 2.9 4.6 1.3 2. ]\n",
      " [5.2 2.7 3.9 1.4 2. ]\n",
      " [5.  2.  3.5 1.  2. ]\n",
      " [5.9 3.  4.2 1.5 2. ]\n",
      " [6.  2.2 4.  1.  2. ]\n",
      " [6.1 2.9 4.7 1.4 2. ]\n",
      " [5.6 2.9 3.6 1.3 2. ]\n",
      " [6.7 3.1 4.4 1.4 2. ]\n",
      " [5.6 3.  4.5 1.5 2. ]\n",
      " [5.8 2.7 4.1 1.  2. ]\n",
      " [6.2 2.2 4.5 1.5 2. ]\n",
      " [5.6 2.5 3.9 1.1 2. ]\n",
      " [5.9 3.2 4.8 1.8 2. ]\n",
      " [6.1 2.8 4.  1.3 2. ]\n",
      " [6.3 2.5 4.9 1.5 2. ]\n",
      " [6.1 2.8 4.7 1.2 2. ]\n",
      " [6.4 2.9 4.3 1.3 2. ]\n",
      " [6.6 3.  4.4 1.4 2. ]\n",
      " [6.8 2.8 4.8 1.4 2. ]\n",
      " [6.7 3.  5.  1.7 2. ]\n",
      " [6.  2.9 4.5 1.5 2. ]\n",
      " [5.7 2.6 3.5 1.  2. ]\n",
      " [5.5 2.4 3.8 1.1 2. ]\n",
      " [5.5 2.4 3.7 1.  2. ]\n",
      " [5.8 2.7 3.9 1.2 2. ]\n",
      " [6.  2.7 5.1 1.6 2. ]\n",
      " [5.4 3.  4.5 1.5 2. ]\n",
      " [6.  3.4 4.5 1.6 2. ]\n",
      " [6.7 3.1 4.7 1.5 2. ]\n",
      " [6.3 2.3 4.4 1.3 2. ]\n",
      " [5.6 3.  4.1 1.3 2. ]\n",
      " [5.5 2.5 4.  1.3 2. ]\n",
      " [5.5 2.6 4.4 1.2 2. ]\n",
      " [6.1 3.  4.6 1.4 2. ]\n",
      " [5.8 2.6 4.  1.2 2. ]\n",
      " [5.  2.3 3.3 1.  2. ]\n",
      " [5.6 2.7 4.2 1.3 2. ]\n",
      " [5.7 3.  4.2 1.2 2. ]\n",
      " [5.7 2.9 4.2 1.3 2. ]\n",
      " [6.2 2.9 4.3 1.3 2. ]\n",
      " [5.1 2.5 3.  1.1 2. ]\n",
      " [5.7 2.8 4.1 1.3 2. ]\n",
      " [6.3 3.3 6.  2.5 0. ]\n",
      " [5.8 2.7 5.1 1.9 0. ]\n",
      " [7.1 3.  5.9 2.1 0. ]\n",
      " [6.3 2.9 5.6 1.8 0. ]\n",
      " [6.5 3.  5.8 2.2 0. ]\n",
      " [7.6 3.  6.6 2.1 0. ]\n",
      " [4.9 2.5 4.5 1.7 0. ]\n",
      " [7.3 2.9 6.3 1.8 0. ]\n",
      " [6.7 2.5 5.8 1.8 0. ]\n",
      " [7.2 3.6 6.1 2.5 0. ]\n",
      " [6.5 3.2 5.1 2.  0. ]\n",
      " [6.4 2.7 5.3 1.9 0. ]\n",
      " [6.8 3.  5.5 2.1 0. ]\n",
      " [5.7 2.5 5.  2.  0. ]\n",
      " [5.8 2.8 5.1 2.4 0. ]\n",
      " [6.4 3.2 5.3 2.3 0. ]\n",
      " [6.5 3.  5.5 1.8 0. ]\n",
      " [7.7 3.8 6.7 2.2 0. ]\n",
      " [7.7 2.6 6.9 2.3 0. ]\n",
      " [6.  2.2 5.  1.5 0. ]\n",
      " [6.9 3.2 5.7 2.3 0. ]\n",
      " [5.6 2.8 4.9 2.  0. ]\n",
      " [7.7 2.8 6.7 2.  0. ]\n",
      " [6.3 2.7 4.9 1.8 0. ]\n",
      " [6.7 3.3 5.7 2.1 0. ]\n",
      " [7.2 3.2 6.  1.8 0. ]\n",
      " [6.2 2.8 4.8 1.8 0. ]\n",
      " [6.1 3.  4.9 1.8 0. ]\n",
      " [6.4 2.8 5.6 2.1 0. ]\n",
      " [7.2 3.  5.8 1.6 0. ]\n",
      " [7.4 2.8 6.1 1.9 0. ]\n",
      " [7.9 3.8 6.4 2.  0. ]\n",
      " [6.4 2.8 5.6 2.2 0. ]\n",
      " [6.3 2.8 5.1 1.5 0. ]\n",
      " [6.1 2.6 5.6 1.4 0. ]\n",
      " [7.7 3.  6.1 2.3 0. ]\n",
      " [6.3 3.4 5.6 2.4 0. ]\n",
      " [6.4 3.1 5.5 1.8 0. ]\n",
      " [6.  3.  4.8 1.8 0. ]\n",
      " [6.9 3.1 5.4 2.1 0. ]\n",
      " [6.7 3.1 5.6 2.4 0. ]\n",
      " [6.9 3.1 5.1 2.3 0. ]\n",
      " [5.8 2.7 5.1 1.9 0. ]\n",
      " [6.8 3.2 5.9 2.3 0. ]\n",
      " [6.7 3.3 5.7 2.5 0. ]\n",
      " [6.7 3.  5.2 2.3 0. ]\n",
      " [6.3 2.5 5.  1.9 0. ]\n",
      " [6.5 3.  5.2 2.  0. ]\n",
      " [6.2 3.4 5.4 2.3 0. ]\n",
      " [5.9 3.  5.1 1.8 0. ]]\n"
     ]
    },
    {
     "name": "stderr",
     "output_type": "stream",
     "text": [
      "E:\\ProgramFiles\\anaconda\\lib\\site-packages\\ipykernel_launcher.py:1: FutureWarning: Method .as_matrix will be removed in a future version. Use .values instead.\n",
      "  \"\"\"Entry point for launching an IPython kernel.\n"
     ]
    }
   ],
   "source": [
    "print(dataset.as_matrix())"
   ]
  },
  {
   "cell_type": "code",
   "execution_count": 15,
   "metadata": {},
   "outputs": [
    {
     "data": {
      "text/html": [
       "<div>\n",
       "<style scoped>\n",
       "    .dataframe tbody tr th:only-of-type {\n",
       "        vertical-align: middle;\n",
       "    }\n",
       "\n",
       "    .dataframe tbody tr th {\n",
       "        vertical-align: top;\n",
       "    }\n",
       "\n",
       "    .dataframe thead th {\n",
       "        text-align: right;\n",
       "    }\n",
       "</style>\n",
       "<table border=\"1\" class=\"dataframe\">\n",
       "  <thead>\n",
       "    <tr style=\"text-align: right;\">\n",
       "      <th></th>\n",
       "      <th>sepal.length</th>\n",
       "      <th>sepal.width</th>\n",
       "      <th>petal.length</th>\n",
       "      <th>petal.width</th>\n",
       "      <th>variety</th>\n",
       "    </tr>\n",
       "  </thead>\n",
       "  <tbody>\n",
       "    <tr>\n",
       "      <th>0</th>\n",
       "      <td>5.1</td>\n",
       "      <td>3.5</td>\n",
       "      <td>1.4</td>\n",
       "      <td>0.2</td>\n",
       "      <td>Setosa</td>\n",
       "    </tr>\n",
       "    <tr>\n",
       "      <th>1</th>\n",
       "      <td>4.9</td>\n",
       "      <td>3.0</td>\n",
       "      <td>1.4</td>\n",
       "      <td>0.2</td>\n",
       "      <td>Setosa</td>\n",
       "    </tr>\n",
       "    <tr>\n",
       "      <th>2</th>\n",
       "      <td>4.7</td>\n",
       "      <td>3.2</td>\n",
       "      <td>1.3</td>\n",
       "      <td>0.2</td>\n",
       "      <td>Setosa</td>\n",
       "    </tr>\n",
       "    <tr>\n",
       "      <th>3</th>\n",
       "      <td>4.6</td>\n",
       "      <td>3.1</td>\n",
       "      <td>1.5</td>\n",
       "      <td>0.2</td>\n",
       "      <td>Setosa</td>\n",
       "    </tr>\n",
       "    <tr>\n",
       "      <th>4</th>\n",
       "      <td>5.0</td>\n",
       "      <td>3.6</td>\n",
       "      <td>1.4</td>\n",
       "      <td>0.2</td>\n",
       "      <td>Setosa</td>\n",
       "    </tr>\n",
       "  </tbody>\n",
       "</table>\n",
       "</div>"
      ],
      "text/plain": [
       "   sepal.length  sepal.width  petal.length  petal.width variety\n",
       "0           5.1          3.5           1.4          0.2  Setosa\n",
       "1           4.9          3.0           1.4          0.2  Setosa\n",
       "2           4.7          3.2           1.3          0.2  Setosa\n",
       "3           4.6          3.1           1.5          0.2  Setosa\n",
       "4           5.0          3.6           1.4          0.2  Setosa"
      ]
     },
     "execution_count": 15,
     "metadata": {},
     "output_type": "execute_result"
    }
   ],
   "source": [
    "dataset.head()"
   ]
  },
  {
   "cell_type": "code",
   "execution_count": 16,
   "metadata": {},
   "outputs": [
    {
     "data": {
      "text/plain": [
       "Versicolor    50\n",
       "Virginica     50\n",
       "Setosa        50\n",
       "Name: variety, dtype: int64"
      ]
     },
     "execution_count": 16,
     "metadata": {},
     "output_type": "execute_result"
    }
   ],
   "source": [
    "dataset.variety.value_counts()"
   ]
  },
  {
   "cell_type": "markdown",
   "metadata": {},
   "source": [
    "## preprocess dataset"
   ]
  },
  {
   "cell_type": "code",
   "execution_count": 17,
   "metadata": {},
   "outputs": [],
   "source": [
    "label_map = {\"Virginica\":0, \"Setosa\":1, \"Versicolor\":2}"
   ]
  },
  {
   "cell_type": "code",
   "execution_count": 18,
   "metadata": {},
   "outputs": [],
   "source": [
    "dataset.variety = dataset.variety.apply(lambda x: label_map[x])"
   ]
  },
  {
   "cell_type": "code",
   "execution_count": 55,
   "metadata": {},
   "outputs": [
    {
     "data": {
      "text/html": [
       "<div>\n",
       "<style scoped>\n",
       "    .dataframe tbody tr th:only-of-type {\n",
       "        vertical-align: middle;\n",
       "    }\n",
       "\n",
       "    .dataframe tbody tr th {\n",
       "        vertical-align: top;\n",
       "    }\n",
       "\n",
       "    .dataframe thead th {\n",
       "        text-align: right;\n",
       "    }\n",
       "</style>\n",
       "<table border=\"1\" class=\"dataframe\">\n",
       "  <thead>\n",
       "    <tr style=\"text-align: right;\">\n",
       "      <th></th>\n",
       "      <th>sepal.length</th>\n",
       "      <th>sepal.width</th>\n",
       "      <th>petal.length</th>\n",
       "      <th>petal.width</th>\n",
       "      <th>variety</th>\n",
       "    </tr>\n",
       "  </thead>\n",
       "  <tbody>\n",
       "    <tr>\n",
       "      <th>0</th>\n",
       "      <td>5.1</td>\n",
       "      <td>3.5</td>\n",
       "      <td>1.4</td>\n",
       "      <td>0.2</td>\n",
       "      <td>1</td>\n",
       "    </tr>\n",
       "    <tr>\n",
       "      <th>1</th>\n",
       "      <td>4.9</td>\n",
       "      <td>3.0</td>\n",
       "      <td>1.4</td>\n",
       "      <td>0.2</td>\n",
       "      <td>1</td>\n",
       "    </tr>\n",
       "    <tr>\n",
       "      <th>2</th>\n",
       "      <td>4.7</td>\n",
       "      <td>3.2</td>\n",
       "      <td>1.3</td>\n",
       "      <td>0.2</td>\n",
       "      <td>1</td>\n",
       "    </tr>\n",
       "    <tr>\n",
       "      <th>3</th>\n",
       "      <td>4.6</td>\n",
       "      <td>3.1</td>\n",
       "      <td>1.5</td>\n",
       "      <td>0.2</td>\n",
       "      <td>1</td>\n",
       "    </tr>\n",
       "    <tr>\n",
       "      <th>4</th>\n",
       "      <td>5.0</td>\n",
       "      <td>3.6</td>\n",
       "      <td>1.4</td>\n",
       "      <td>0.2</td>\n",
       "      <td>1</td>\n",
       "    </tr>\n",
       "  </tbody>\n",
       "</table>\n",
       "</div>"
      ],
      "text/plain": [
       "   sepal.length  sepal.width  petal.length  petal.width  variety\n",
       "0           5.1          3.5           1.4          0.2        1\n",
       "1           4.9          3.0           1.4          0.2        1\n",
       "2           4.7          3.2           1.3          0.2        1\n",
       "3           4.6          3.1           1.5          0.2        1\n",
       "4           5.0          3.6           1.4          0.2        1"
      ]
     },
     "execution_count": 55,
     "metadata": {},
     "output_type": "execute_result"
    }
   ],
   "source": [
    "dataset.head()"
   ]
  },
  {
   "cell_type": "code",
   "execution_count": 21,
   "metadata": {},
   "outputs": [
    {
     "name": "stderr",
     "output_type": "stream",
     "text": [
      "E:\\ProgramFiles\\anaconda\\lib\\site-packages\\ipykernel_launcher.py:1: FutureWarning: Method .as_matrix will be removed in a future version. Use .values instead.\n",
      "  \"\"\"Entry point for launching an IPython kernel.\n"
     ]
    }
   ],
   "source": [
    "data = dataset.as_matrix()"
   ]
  },
  {
   "cell_type": "code",
   "execution_count": 22,
   "metadata": {},
   "outputs": [
    {
     "data": {
      "text/plain": [
       "(150, 5)"
      ]
     },
     "execution_count": 22,
     "metadata": {},
     "output_type": "execute_result"
    }
   ],
   "source": [
    "data.shape"
   ]
  },
  {
   "cell_type": "markdown",
   "metadata": {},
   "source": [
    "## fit model on full data (we aren't splitting data in train/val/test parts here)"
   ]
  },
  {
   "cell_type": "code",
   "execution_count": 23,
   "metadata": {},
   "outputs": [],
   "source": [
    "model = summarize_by_class(data)"
   ]
  },
  {
   "cell_type": "code",
   "execution_count": 52,
   "metadata": {},
   "outputs": [
    {
     "data": {
      "text/plain": [
       "{1.0: [(5.005999999999999, 0.3524896872134512, 50),\n",
       "  (3.428000000000001, 0.3790643690962886, 50),\n",
       "  (1.4620000000000002, 0.1736639964801841, 50),\n",
       "  (0.2459999999999999, 0.10538558938004569, 50)],\n",
       " 2.0: [(5.936, 0.5161711470638635, 50),\n",
       "  (2.7700000000000005, 0.3137983233784114, 50),\n",
       "  (4.26, 0.46991097723995806, 50),\n",
       "  (1.3259999999999998, 0.197752680004544, 50)],\n",
       " 0.0: [(6.587999999999998, 0.635879593274432, 50),\n",
       "  (2.9739999999999998, 0.3224966381726376, 50),\n",
       "  (5.552, 0.5518946956639835, 50),\n",
       "  (2.026, 0.27465005563666733, 50)]}"
      ]
     },
     "execution_count": 52,
     "metadata": {},
     "output_type": "execute_result"
    }
   ],
   "source": [
    "model"
   ]
  },
  {
   "cell_type": "code",
   "execution_count": 50,
   "metadata": {},
   "outputs": [
    {
     "name": "stdout",
     "output_type": "stream",
     "text": [
      "[(5.843333333333335, 0.8280661279778629, 150), (3.057333333333334, 0.435866284936698, 150), (3.7580000000000027, 1.7652982332594667, 150), (1.199333333333334, 0.7622376689603465, 150), (1.0, 0.8192319205190405, 150)]\n",
      "(1.0, 0.8192319205190405, 150)\n"
     ]
    }
   ],
   "source": [
    "import numpy as np\n",
    "import math\n",
    "s = [(mean(column), stdev(column), len(column)) for column in zip(*data)]\n",
    "print(s)\n",
    "print(s[-1])"
   ]
  },
  {
   "cell_type": "markdown",
   "metadata": {},
   "source": [
    "## Test Model on full data"
   ]
  },
  {
   "cell_type": "code",
   "execution_count": 25,
   "metadata": {},
   "outputs": [],
   "source": [
    "predictions = [predict(model, data[row_idx, :4]) for row_idx in range(data.shape[0])]"
   ]
  },
  {
   "cell_type": "code",
   "execution_count": 51,
   "metadata": {},
   "outputs": [
    {
     "data": {
      "text/plain": [
       "[1.0,\n",
       " 1.0,\n",
       " 1.0,\n",
       " 1.0,\n",
       " 1.0,\n",
       " 1.0,\n",
       " 1.0,\n",
       " 1.0,\n",
       " 1.0,\n",
       " 1.0,\n",
       " 1.0,\n",
       " 1.0,\n",
       " 1.0,\n",
       " 1.0,\n",
       " 1.0,\n",
       " 1.0,\n",
       " 1.0,\n",
       " 1.0,\n",
       " 1.0,\n",
       " 1.0,\n",
       " 1.0,\n",
       " 1.0,\n",
       " 1.0,\n",
       " 1.0,\n",
       " 1.0,\n",
       " 1.0,\n",
       " 1.0,\n",
       " 1.0,\n",
       " 1.0,\n",
       " 1.0,\n",
       " 1.0,\n",
       " 1.0,\n",
       " 1.0,\n",
       " 1.0,\n",
       " 1.0,\n",
       " 1.0,\n",
       " 1.0,\n",
       " 1.0,\n",
       " 1.0,\n",
       " 1.0,\n",
       " 1.0,\n",
       " 1.0,\n",
       " 1.0,\n",
       " 1.0,\n",
       " 1.0,\n",
       " 1.0,\n",
       " 1.0,\n",
       " 1.0,\n",
       " 1.0,\n",
       " 1.0,\n",
       " 2.0,\n",
       " 2.0,\n",
       " 0.0,\n",
       " 2.0,\n",
       " 2.0,\n",
       " 2.0,\n",
       " 2.0,\n",
       " 2.0,\n",
       " 2.0,\n",
       " 2.0,\n",
       " 2.0,\n",
       " 2.0,\n",
       " 2.0,\n",
       " 2.0,\n",
       " 2.0,\n",
       " 2.0,\n",
       " 2.0,\n",
       " 2.0,\n",
       " 2.0,\n",
       " 2.0,\n",
       " 0.0,\n",
       " 2.0,\n",
       " 2.0,\n",
       " 2.0,\n",
       " 2.0,\n",
       " 2.0,\n",
       " 2.0,\n",
       " 0.0,\n",
       " 2.0,\n",
       " 2.0,\n",
       " 2.0,\n",
       " 2.0,\n",
       " 2.0,\n",
       " 2.0,\n",
       " 2.0,\n",
       " 2.0,\n",
       " 2.0,\n",
       " 2.0,\n",
       " 2.0,\n",
       " 2.0,\n",
       " 2.0,\n",
       " 2.0,\n",
       " 2.0,\n",
       " 2.0,\n",
       " 2.0,\n",
       " 2.0,\n",
       " 2.0,\n",
       " 2.0,\n",
       " 2.0,\n",
       " 2.0,\n",
       " 0.0,\n",
       " 0.0,\n",
       " 0.0,\n",
       " 0.0,\n",
       " 0.0,\n",
       " 0.0,\n",
       " 2.0,\n",
       " 0.0,\n",
       " 0.0,\n",
       " 0.0,\n",
       " 0.0,\n",
       " 0.0,\n",
       " 0.0,\n",
       " 0.0,\n",
       " 0.0,\n",
       " 0.0,\n",
       " 0.0,\n",
       " 0.0,\n",
       " 0.0,\n",
       " 2.0,\n",
       " 0.0,\n",
       " 0.0,\n",
       " 0.0,\n",
       " 0.0,\n",
       " 0.0,\n",
       " 0.0,\n",
       " 0.0,\n",
       " 0.0,\n",
       " 0.0,\n",
       " 0.0,\n",
       " 0.0,\n",
       " 0.0,\n",
       " 0.0,\n",
       " 2.0,\n",
       " 0.0,\n",
       " 0.0,\n",
       " 0.0,\n",
       " 0.0,\n",
       " 0.0,\n",
       " 0.0,\n",
       " 0.0,\n",
       " 0.0,\n",
       " 0.0,\n",
       " 0.0,\n",
       " 0.0,\n",
       " 0.0,\n",
       " 0.0,\n",
       " 0.0,\n",
       " 0.0,\n",
       " 0.0]"
      ]
     },
     "execution_count": 51,
     "metadata": {},
     "output_type": "execute_result"
    }
   ],
   "source": [
    "predictions"
   ]
  },
  {
   "cell_type": "code",
   "execution_count": 29,
   "metadata": {},
   "outputs": [],
   "source": [
    "targets = data[:, 4]"
   ]
  },
  {
   "cell_type": "code",
   "execution_count": 31,
   "metadata": {},
   "outputs": [
    {
     "data": {
      "text/plain": [
       "150"
      ]
     },
     "execution_count": 31,
     "metadata": {},
     "output_type": "execute_result"
    }
   ],
   "source": [
    "len(targets)"
   ]
  },
  {
   "cell_type": "markdown",
   "metadata": {},
   "source": [
    "### Get Scores"
   ]
  },
  {
   "cell_type": "code",
   "execution_count": 32,
   "metadata": {},
   "outputs": [],
   "source": [
    "f1 = f1_score(y_true=targets, y_pred=predictions, average='macro')\n",
    "precision = precision_score(y_true=targets, y_pred=predictions, average='macro')\n",
    "recall = recall_score(y_true=targets, y_pred=predictions, average='macro')"
   ]
  },
  {
   "cell_type": "code",
   "execution_count": 33,
   "metadata": {},
   "outputs": [
    {
     "name": "stdout",
     "output_type": "stream",
     "text": [
      "Scores:\n",
      "f1: 0.96\n",
      "precision:0.96\n",
      "recall:0.96\n"
     ]
    }
   ],
   "source": [
    "print(f\"Scores:\\nf1: {f1}\\nprecision:{precision}\\nrecall:{recall}\")"
   ]
  },
  {
   "cell_type": "markdown",
   "metadata": {},
   "source": [
    "### Confusion Matrix"
   ]
  },
  {
   "cell_type": "code",
   "execution_count": 34,
   "metadata": {},
   "outputs": [],
   "source": [
    "label_keys = [\"Virginica\", \"Setosa\", \"Versicolor\"]"
   ]
  },
  {
   "cell_type": "code",
   "execution_count": 35,
   "metadata": {},
   "outputs": [],
   "source": [
    "label_values = [0,1,2]"
   ]
  },
  {
   "cell_type": "code",
   "execution_count": 36,
   "metadata": {},
   "outputs": [],
   "source": [
    "conf_matrix = confusion_matrix(y_true=targets, y_pred=predictions, labels=label_values)"
   ]
  },
  {
   "cell_type": "code",
   "execution_count": 37,
   "metadata": {},
   "outputs": [],
   "source": [
    "conf_matrix_df = pd.DataFrame(conf_matrix, columns=label_keys, index=label_keys)"
   ]
  },
  {
   "cell_type": "code",
   "execution_count": 38,
   "metadata": {},
   "outputs": [
    {
     "data": {
      "text/html": [
       "<div>\n",
       "<style scoped>\n",
       "    .dataframe tbody tr th:only-of-type {\n",
       "        vertical-align: middle;\n",
       "    }\n",
       "\n",
       "    .dataframe tbody tr th {\n",
       "        vertical-align: top;\n",
       "    }\n",
       "\n",
       "    .dataframe thead th {\n",
       "        text-align: right;\n",
       "    }\n",
       "</style>\n",
       "<table border=\"1\" class=\"dataframe\">\n",
       "  <thead>\n",
       "    <tr style=\"text-align: right;\">\n",
       "      <th></th>\n",
       "      <th>Virginica</th>\n",
       "      <th>Setosa</th>\n",
       "      <th>Versicolor</th>\n",
       "    </tr>\n",
       "  </thead>\n",
       "  <tbody>\n",
       "    <tr>\n",
       "      <th>Virginica</th>\n",
       "      <td>47</td>\n",
       "      <td>0</td>\n",
       "      <td>3</td>\n",
       "    </tr>\n",
       "    <tr>\n",
       "      <th>Setosa</th>\n",
       "      <td>0</td>\n",
       "      <td>50</td>\n",
       "      <td>0</td>\n",
       "    </tr>\n",
       "    <tr>\n",
       "      <th>Versicolor</th>\n",
       "      <td>3</td>\n",
       "      <td>0</td>\n",
       "      <td>47</td>\n",
       "    </tr>\n",
       "  </tbody>\n",
       "</table>\n",
       "</div>"
      ],
      "text/plain": [
       "            Virginica  Setosa  Versicolor\n",
       "Virginica          47       0           3\n",
       "Setosa              0      50           0\n",
       "Versicolor          3       0          47"
      ]
     },
     "execution_count": 38,
     "metadata": {},
     "output_type": "execute_result"
    }
   ],
   "source": [
    "conf_matrix_df"
   ]
  },
  {
   "cell_type": "code",
   "execution_count": 39,
   "metadata": {},
   "outputs": [
    {
     "data": {
      "image/png": "[encoded data removed]",
      "text/plain": [
       "<Figure size 792x1080 with 2 Axes>"
      ]
     },
     "metadata": {
      "needs_background": "light"
     },
     "output_type": "display_data"
    }
   ],
   "source": [
    "f, ax = plt.subplots(figsize=(11, 15)) \n",
    "heatmap = sns.heatmap(conf_matrix_df, \n",
    "                      square = True,\n",
    "                      linewidths = .5,\n",
    "                      cmap = 'coolwarm',\n",
    "                      cbar_kws = {'shrink': .4, \n",
    "                                'ticks' : [-1, -.5, 0, 0.5, 1]},\n",
    "                      vmin = -1, \n",
    "                      vmax = 1,\n",
    "                      annot = True,\n",
    "                      annot_kws = {\"size\": 12})\n",
    "\n",
    "#add the column names as labels\n",
    "ax.set_yticklabels(conf_matrix_df.columns, rotation = 0)\n",
    "ax.set_xticklabels(conf_matrix_df.columns)\n",
    "sns.set_style({'xtick.bottom': True}, {'ytick.left': True})\n",
    "ax.set(ylabel='True label',\n",
    "           xlabel='Predicted label');"
   ]
  },
  {
   "cell_type": "markdown",
   "metadata": {},
   "source": [
    "## define a new record"
   ]
  },
  {
   "cell_type": "code",
   "execution_count": 40,
   "metadata": {},
   "outputs": [],
   "source": [
    "row = [5.7,2.9,4.2,1.3]"
   ]
  },
  {
   "cell_type": "markdown",
   "metadata": {},
   "source": [
    "## predict the label"
   ]
  },
  {
   "cell_type": "code",
   "execution_count": 30,
   "metadata": {},
   "outputs": [
    {
     "name": "stdout",
     "output_type": "stream",
     "text": [
      "Data=[5.7, 2.9, 4.2, 1.3], Predicted: 2.0\n"
     ]
    }
   ],
   "source": [
    "label = predict(model, row)\n",
    "print('Data=%s, Predicted: %s' % (row, label))"
   ]
  },
  {
   "cell_type": "markdown",
   "metadata": {},
   "source": [
    "# More Resources"
   ]
  },
  {
   "cell_type": "markdown",
   "metadata": {},
   "source": [
    "[all about naive bayes](https://towardsdatascience.com/all-about-naive-bayes-8e13cef044cf)"
   ]
  },
  {
   "cell_type": "markdown",
   "metadata": {},
   "source": [
    "[naive bayes classifier (wiki)](https://en.wikipedia.org/wiki/Naive_Bayes_classifier)"
   ]
  },
  {
   "cell_type": "markdown",
   "metadata": {},
   "source": [
    "[naive bayes explained (towardsdatascience)](https://towardsdatascience.com/naive-bayes-explained-9d2b96f4a9c0)"
   ]
  }
 ],
 "metadata": {
  "kernelspec": {
   "display_name": "Python 3",
   "language": "python",
   "name": "python3"
  },
  "language_info": {
   "codemirror_mode": {
    "name": "ipython",
    "version": 3
   },
   "file_extension": ".py",
   "mimetype": "text/x-python",
   "name": "python",
   "nbconvert_exporter": "python",
   "pygments_lexer": "ipython3",
   "version": "3.7.3"
  }
 },
 "nbformat": 4,
 "nbformat_minor": 2
}
