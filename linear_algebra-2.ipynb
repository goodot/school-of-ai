{
 "cells": [
  {
   "cell_type": "code",
   "execution_count": 9,
   "metadata": {},
   "outputs": [],
   "source": [
    "%load_ext autoreload\n",
    "%autoreload 2\n",
    "\n",
    "%matplotlib inline"
   ]
  },
  {
   "cell_type": "markdown",
   "metadata": {},
   "source": [
    "## Basic setup"
   ]
  },
  {
   "cell_type": "markdown",
   "metadata": {},
   "source": [
    "Create anaconda environnement\n",
    "<br>\n",
    "```bash\n",
    "conda create -n ml python=3.7.4 jupyter\n",
    "```\n",
    "Install fastai library\n",
    "<br>\n",
    "```bash\n",
    "conda install -c pytorch -c fastai fastai\n",
    "```"
   ]
  },
  {
   "cell_type": "markdown",
   "metadata": {},
   "source": [
    "# Special types of matrices"
   ]
  },
  {
   "cell_type": "markdown",
   "metadata": {},
   "source": [
    "Identity matrix $I_{n} \\in \\mathbb{R}^{n \\times n}$ is a matrix which does not changes other matric after multiplication. This kind of matrices contain ones on main diagonal and zero everywhere else \n",
    "$$\\begin{align} I_{n} &= \\begin{pmatrix}\n",
    "           1, 0, \\dots, 0 \\\\\n",
    "           0, 1, \\dots, 0 \\\\\n",
    "           \\vdots \\\\\n",
    "           0, 0, \\dots, 1 \\\\\n",
    "         \\end{pmatrix}\n",
    "  \\end{align}$$\n",
    "<br>\n",
    "or we can define it with property $\\forall a \\in \\mathbb{R}^{1 \\times n}$ holds $aI_{n} = a$ or $\\forall a \\in \\mathbb{R}^{n \\times 1}$ holds $I_{n}a =a$"
   ]
  },
  {
   "cell_type": "code",
   "execution_count": 1,
   "metadata": {},
   "outputs": [],
   "source": [
    "import numpy as np"
   ]
  },
  {
   "cell_type": "code",
   "execution_count": 2,
   "metadata": {},
   "outputs": [],
   "source": [
    "I = np.identity(4)"
   ]
  },
  {
   "cell_type": "code",
   "execution_count": 3,
   "metadata": {},
   "outputs": [
    {
     "data": {
      "text/plain": [
       "array([[1., 0., 0., 0.],\n",
       "       [0., 1., 0., 0.],\n",
       "       [0., 0., 1., 0.],\n",
       "       [0., 0., 0., 1.]])"
      ]
     },
     "execution_count": 3,
     "metadata": {},
     "output_type": "execute_result"
    }
   ],
   "source": [
    "I"
   ]
  },
  {
   "cell_type": "code",
   "execution_count": 4,
   "metadata": {},
   "outputs": [],
   "source": [
    "A = np.random.random(size=(4, 5))\n",
    "B = np.random.random(size=(6, 4))"
   ]
  },
  {
   "cell_type": "code",
   "execution_count": 5,
   "metadata": {},
   "outputs": [
    {
     "data": {
      "text/plain": [
       "array([[0.16608384, 0.64658418, 0.33660896, 0.55163203, 0.83862164],\n",
       "       [0.5902026 , 0.72837157, 0.95135543, 0.45924322, 0.81066017],\n",
       "       [0.52679628, 0.02827689, 0.84247732, 0.51773502, 0.33968376],\n",
       "       [0.35130613, 0.09634971, 0.3864694 , 0.07685268, 0.26896936]])"
      ]
     },
     "execution_count": 5,
     "metadata": {},
     "output_type": "execute_result"
    }
   ],
   "source": [
    "A"
   ]
  },
  {
   "cell_type": "code",
   "execution_count": 6,
   "metadata": {},
   "outputs": [
    {
     "data": {
      "text/plain": [
       "array([[0.98289049, 0.97048821, 0.09346472, 0.4949944 ],\n",
       "       [0.75362206, 0.02645528, 0.139597  , 0.69335633],\n",
       "       [0.54815407, 0.81031219, 0.10572942, 0.89742611],\n",
       "       [0.85674399, 0.33898318, 0.49022799, 0.51391506],\n",
       "       [0.00472914, 0.72224002, 0.95829003, 0.23703028],\n",
       "       [0.2340194 , 0.83559035, 0.71281628, 0.73455152]])"
      ]
     },
     "execution_count": 6,
     "metadata": {},
     "output_type": "execute_result"
    }
   ],
   "source": [
    "B"
   ]
  },
  {
   "cell_type": "code",
   "execution_count": 7,
   "metadata": {},
   "outputs": [
    {
     "data": {
      "text/plain": [
       "array([[0.16608384, 0.64658418, 0.33660896, 0.55163203, 0.83862164],\n",
       "       [0.5902026 , 0.72837157, 0.95135543, 0.45924322, 0.81066017],\n",
       "       [0.52679628, 0.02827689, 0.84247732, 0.51773502, 0.33968376],\n",
       "       [0.35130613, 0.09634971, 0.3864694 , 0.07685268, 0.26896936]])"
      ]
     },
     "execution_count": 7,
     "metadata": {},
     "output_type": "execute_result"
    }
   ],
   "source": [
    "I @ A"
   ]
  },
  {
   "cell_type": "code",
   "execution_count": 8,
   "metadata": {},
   "outputs": [
    {
     "data": {
      "text/plain": [
       "array([[0.98289049, 0.97048821, 0.09346472, 0.4949944 ],\n",
       "       [0.75362206, 0.02645528, 0.139597  , 0.69335633],\n",
       "       [0.54815407, 0.81031219, 0.10572942, 0.89742611],\n",
       "       [0.85674399, 0.33898318, 0.49022799, 0.51391506],\n",
       "       [0.00472914, 0.72224002, 0.95829003, 0.23703028],\n",
       "       [0.2340194 , 0.83559035, 0.71281628, 0.73455152]])"
      ]
     },
     "execution_count": 8,
     "metadata": {},
     "output_type": "execute_result"
    }
   ],
   "source": [
    "B @ I"
   ]
  },
  {
   "cell_type": "code",
   "execution_count": null,
   "metadata": {},
   "outputs": [],
   "source": []
  }
 ],
 "metadata": {
  "kernelspec": {
   "display_name": "Python 3",
   "language": "python",
   "name": "python3"
  },
  "language_info": {
   "codemirror_mode": {
    "name": "ipython",
    "version": 3
   },
   "file_extension": ".py",
   "mimetype": "text/x-python",
   "name": "python",
   "nbconvert_exporter": "python",
   "pygments_lexer": "ipython3",
   "version": "3.7.4"
  }
 },
 "nbformat": 4,
 "nbformat_minor": 2
}
